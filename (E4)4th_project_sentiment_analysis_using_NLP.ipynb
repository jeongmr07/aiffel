{
 "cells": [
  {
   "cell_type": "markdown",
   "metadata": {},
   "source": [
    "# AIFFEL 네 번째 프로젝트 : 영화리뷰 감성분석\n",
    "## 1.1 네이버 영화 댓글 데이터 준비\n",
    "- 터미널을 통해 네이버 영화 평점 사이트에서 데이터를 다운로드한다.\n",
    "```\n",
    "$ wget https://raw.githubusercontent.com/e9t/nsmc/master/ratings_train.txt\n",
    "$ wget https://raw.githubusercontent.com/e9t/nsmc/master/ratings_test.txt\n",
    "$ mv ratings_*.txt ~/aiffel/sentiment_classification\n",
    "```"
   ]
  },
  {
   "cell_type": "markdown",
   "metadata": {},
   "source": [
    "### 1.1.1. 데이터 분석 패키지 import"
   ]
  },
  {
   "cell_type": "code",
   "execution_count": 1,
   "metadata": {},
   "outputs": [],
   "source": [
    "import pandas as pd\n",
    "import urllib.request\n",
    "%matplotlib inline\n",
    "import matplotlib.pyplot as plt\n",
    "import re\n",
    "from konlpy.tag import Okt\n",
    "from tensorflow import keras\n",
    "from tensorflow.keras.preprocessing.text import Tokenizer\n",
    "import numpy as np\n",
    "from tensorflow.keras.preprocessing.sequence import pad_sequences\n",
    "from collections import Counter"
   ]
  },
  {
   "cell_type": "markdown",
   "metadata": {},
   "source": [
    "### 1.1.2. 데이터 읽기"
   ]
  },
  {
   "cell_type": "code",
   "execution_count": 2,
   "metadata": {},
   "outputs": [
    {
     "data": {
      "text/html": [
       "<div>\n",
       "<style scoped>\n",
       "    .dataframe tbody tr th:only-of-type {\n",
       "        vertical-align: middle;\n",
       "    }\n",
       "\n",
       "    .dataframe tbody tr th {\n",
       "        vertical-align: top;\n",
       "    }\n",
       "\n",
       "    .dataframe thead th {\n",
       "        text-align: right;\n",
       "    }\n",
       "</style>\n",
       "<table border=\"1\" class=\"dataframe\">\n",
       "  <thead>\n",
       "    <tr style=\"text-align: right;\">\n",
       "      <th></th>\n",
       "      <th>id</th>\n",
       "      <th>document</th>\n",
       "      <th>label</th>\n",
       "    </tr>\n",
       "  </thead>\n",
       "  <tbody>\n",
       "    <tr>\n",
       "      <th>0</th>\n",
       "      <td>9976970</td>\n",
       "      <td>아 더빙.. 진짜 짜증나네요 목소리</td>\n",
       "      <td>0</td>\n",
       "    </tr>\n",
       "    <tr>\n",
       "      <th>1</th>\n",
       "      <td>3819312</td>\n",
       "      <td>흠...포스터보고 초딩영화줄....오버연기조차 가볍지 않구나</td>\n",
       "      <td>1</td>\n",
       "    </tr>\n",
       "    <tr>\n",
       "      <th>2</th>\n",
       "      <td>10265843</td>\n",
       "      <td>너무재밓었다그래서보는것을추천한다</td>\n",
       "      <td>0</td>\n",
       "    </tr>\n",
       "    <tr>\n",
       "      <th>3</th>\n",
       "      <td>9045019</td>\n",
       "      <td>교도소 이야기구먼 ..솔직히 재미는 없다..평점 조정</td>\n",
       "      <td>0</td>\n",
       "    </tr>\n",
       "    <tr>\n",
       "      <th>4</th>\n",
       "      <td>6483659</td>\n",
       "      <td>사이몬페그의 익살스런 연기가 돋보였던 영화!스파이더맨에서 늙어보이기만 했던 커스틴 ...</td>\n",
       "      <td>1</td>\n",
       "    </tr>\n",
       "  </tbody>\n",
       "</table>\n",
       "</div>"
      ],
      "text/plain": [
       "         id                                           document  label\n",
       "0   9976970                                아 더빙.. 진짜 짜증나네요 목소리      0\n",
       "1   3819312                  흠...포스터보고 초딩영화줄....오버연기조차 가볍지 않구나      1\n",
       "2  10265843                                  너무재밓었다그래서보는것을추천한다      0\n",
       "3   9045019                      교도소 이야기구먼 ..솔직히 재미는 없다..평점 조정      0\n",
       "4   6483659  사이몬페그의 익살스런 연기가 돋보였던 영화!스파이더맨에서 늙어보이기만 했던 커스틴 ...      1"
      ]
     },
     "execution_count": 2,
     "metadata": {},
     "output_type": "execute_result"
    }
   ],
   "source": [
    "# 데이터를 읽어봅시다. \n",
    "train_data = pd.read_table('~/aiffel/sentiment_classification/ratings_train.txt')\n",
    "test_data = pd.read_table('~/aiffel/sentiment_classification/ratings_test.txt')\n",
    "\n",
    "train_data.head()"
   ]
  },
  {
   "cell_type": "markdown",
   "metadata": {},
   "source": [
    "## 1.2 데이터로더 구성\n",
    "- 실습때 다루었던 IMDB 데이터셋은 숫자 인덱스로 변환된 텍스트, word_to_index 딕셔너리까지 친절하게 제공한다. \n",
    "- 그러나 네이버 영화 데이터는 **nsmc 데이터셋은 전혀 가공되지 않은 텍스트 파일**로 이루어져 있어, imdb 데이터로더와 같은 동작하는 함수를 만들어야 한다. 만든 data_loader 안에서는 다음을 수행해야한다.\n",
    "    - 데이터의 중복 제거\n",
    "    - NaN 결측치 제거\n",
    "    - 한국어 토크나이저로 토큰화\n",
    "    - 불용어(Stopwords) 제거\n",
    "    - 사전word_to_index 구성\n",
    "    - 텍스트 스트링을 사전 인덱스 스트링으로 변환\n",
    "    - X_train, y_train, X_test, y_test, word_to_index 리턴"
   ]
  },
  {
   "cell_type": "code",
   "execution_count": 3,
   "metadata": {},
   "outputs": [],
   "source": [
    "from konlpy.tag import Mecab\n",
    "tokenizer = Mecab()\n",
    "stopwords = ['의','가','이','은','들','는','좀','잘','걍','과','도','를','으로','자','에','와','한','하다']\n",
    "\n",
    "def load_data(train_data, test_data, num_words=10000):\n",
    "    train_data.drop_duplicates(subset=['document'], inplace=True)\n",
    "    train_data = train_data.dropna(how = 'any') \n",
    "    test_data.drop_duplicates(subset=['document'], inplace=True)\n",
    "    test_data = test_data.dropna(how = 'any') \n",
    "\n",
    "    X_train = []\n",
    "    for sentence in train_data['document']:\n",
    "        temp_X = tokenizer.morphs(sentence) # 토큰화\n",
    "        temp_X = [word for word in temp_X if not word in stopwords] # 불용어 제거\n",
    "        X_train.append(temp_X)\n",
    "\n",
    "    X_test = []\n",
    "    for sentence in test_data['document']:\n",
    "        temp_X = tokenizer.morphs(sentence) # 토큰화\n",
    "        temp_X = [word for word in temp_X if not word in stopwords] # 불용어 제거\n",
    "        X_test.append(temp_X)\n",
    "\n",
    "    words = np.concatenate(X_train).tolist()\n",
    "    counter = Counter(words)\n",
    "    counter = counter.most_common(10000-4)\n",
    "    vocab = ['<PAD>', '<BOS>', '<UNK>', '<UNUSED>'] + [key for key, _ in counter]\n",
    "    word_to_index = {word:index for index, word in enumerate(vocab)}\n",
    "\n",
    "    def wordlist_to_indexlist(wordlist):\n",
    "        return [word_to_index[word] if word in word_to_index else word_to_index['<UNK>'] for word in wordlist]\n",
    "\n",
    "    X_train = list(map(wordlist_to_indexlist, X_train))\n",
    "    X_test = list(map(wordlist_to_indexlist, X_test))\n",
    "\n",
    "    return X_train, np.array(list(train_data['label'])), X_test, np.array(list(test_data['label'])), word_to_index\n",
    "\n",
    "X_train, y_train, X_test, y_test, word_to_index = load_data(train_data, test_data)"
   ]
  },
  {
   "cell_type": "code",
   "execution_count": 4,
   "metadata": {},
   "outputs": [],
   "source": [
    "# word to index > index to word로 바꾼 딕셔너리\n",
    "index_to_word = {index:word for word, index in word_to_index.items()}"
   ]
  },
  {
   "cell_type": "code",
   "execution_count": 5,
   "metadata": {},
   "outputs": [],
   "source": [
    "# 문장 1개를 활용할 딕셔너리와 함께 주면, 단어 인덱스 리스트 벡터로 변환해 주는 함수입니다. \n",
    "# 단, 모든 문장은 <BOS>로 시작하는 것으로 합니다. \n",
    "def get_encoded_sentence(sentence, word_to_index):\n",
    "    return [word_to_index['<BOS>']]+[word_to_index[word] if word in word_to_index else word_to_index['<UNK>'] for word in sentence.split()]\n",
    "\n",
    "# 여러 개의 문장 리스트를 한꺼번에 단어 인덱스 리스트 벡터로 encode해 주는 함수입니다. \n",
    "def get_encoded_sentences(sentences, word_to_index):\n",
    "    return [get_encoded_sentence(sentence, word_to_index) for sentence in sentences]\n",
    "\n",
    "# 숫자 벡터로 encode된 문장을 원래대로 decode하는 함수입니다. \n",
    "def get_decoded_sentence(encoded_sentence, index_to_word):\n",
    "    return ' '.join(index_to_word[index] if index in index_to_word else '<UNK>' for index in encoded_sentence[1:])  #[1:]를 통해 <BOS>를 제외\n",
    "\n",
    "# 여러개의 숫자 벡터로 encode된 문장을 한꺼번에 원래대로 decode하는 함수입니다. \n",
    "def get_decoded_sentences(encoded_sentences, index_to_word):\n",
    "    return [get_decoded_sentence(encoded_sentence, index_to_word) for encoded_sentence in encoded_sentences]"
   ]
  },
  {
   "cell_type": "markdown",
   "metadata": {},
   "source": [
    "## 1.3 모델구성을 위한 데이터 분석 및 가공\n",
    "- 데이터셋 내 문장 길이 분포\n",
    "- 적절한 최대 문장 길이 지정\n",
    "- keras.preprocessing.sequence.pad_sequences을 활용한 패딩 추가  "
   ]
  },
  {
   "cell_type": "code",
   "execution_count": 6,
   "metadata": {},
   "outputs": [
    {
     "name": "stdout",
     "output_type": "stream",
     "text": [
      "문장길이 평균 :  15.969376315021577\n",
      "문장길이 최대 :  116\n",
      "문장길이 표준편차 :  12.843535456326455\n",
      "pad_sequences maxlen :  41\n",
      "전체 문장의 93.42988343341575%가 maxlen 설정값 이내에 포함됩니다. \n"
     ]
    }
   ],
   "source": [
    "# 데이터셋 상 문장 길이 통일\n",
    "total_data_text = list(X_train) + list(X_test)\n",
    "# 텍스트데이터 문장길이의 리스트를 생성한 후\n",
    "num_tokens = [len(tokens) for tokens in total_data_text]\n",
    "num_tokens = np.array(num_tokens)\n",
    "# 문장길이의 평균값, 최대값, 표준편차를 계산해 본다. \n",
    "print('문장길이 평균 : ', np.mean(num_tokens))\n",
    "print('문장길이 최대 : ', np.max(num_tokens))\n",
    "print('문장길이 표준편차 : ', np.std(num_tokens))\n",
    "\n",
    "# 예를들어, 최대 길이를 (평균 + 2*표준편차)로 한다면,  \n",
    "max_tokens = np.mean(num_tokens) + 2 * np.std(num_tokens)\n",
    "maxlen = int(max_tokens)\n",
    "print('pad_sequences maxlen : ', maxlen) #580\n",
    "print('전체 문장의 {}%가 maxlen 설정값 이내에 포함됩니다. '.format(np.sum(num_tokens < max_tokens)*100 / len(num_tokens)))"
   ]
  },
  {
   "cell_type": "code",
   "execution_count": 7,
   "metadata": {},
   "outputs": [
    {
     "name": "stdout",
     "output_type": "stream",
     "text": [
      "(146182, 41)\n"
     ]
    }
   ],
   "source": [
    "X_train = keras.preprocessing.sequence.pad_sequences(X_train,\n",
    "                                                        value=word_to_index[\"<PAD>\"],\n",
    "                                                        padding='pre', # 혹은 'post'\n",
    "                                                        maxlen=maxlen)\n",
    "\n",
    "X_test = keras.preprocessing.sequence.pad_sequences(X_test,\n",
    "                                                       value=word_to_index[\"<PAD>\"],\n",
    "                                                       padding='pre', # 혹은 'post'\n",
    "                                                       maxlen=maxlen)\n",
    "\n",
    "print(X_train.shape)"
   ]
  },
  {
   "cell_type": "markdown",
   "metadata": {},
   "source": [
    "- 자연어처리의 경우, 단어의 흐름이 중요하기 때문에 뒤에 패딩값을 넣는 것보다 앞에 넣는 것이 뒤에 나올 단어를 예측하기가 더 좋다."
   ]
  },
  {
   "cell_type": "markdown",
   "metadata": {},
   "source": [
    "## 1.4 모델구성 및 validation set 구성"
   ]
  },
  {
   "cell_type": "markdown",
   "metadata": {},
   "source": [
    "- 모델 3가지 이상 다양하게 구성하여 실험해보기\n",
    "#### LSTM 레이어 : 가장 널리 쓰이는 RNN"
   ]
  },
  {
   "cell_type": "code",
   "execution_count": 8,
   "metadata": {},
   "outputs": [
    {
     "name": "stdout",
     "output_type": "stream",
     "text": [
      "Model: \"sequential\"\n",
      "_________________________________________________________________\n",
      "Layer (type)                 Output Shape              Param #   \n",
      "=================================================================\n",
      "embedding (Embedding)        (None, None, 16)          160000    \n",
      "_________________________________________________________________\n",
      "lstm (LSTM)                  (None, 16)                2112      \n",
      "_________________________________________________________________\n",
      "dense (Dense)                (None, 10000)             170000    \n",
      "_________________________________________________________________\n",
      "dense_1 (Dense)              (None, 1)                 10001     \n",
      "=================================================================\n",
      "Total params: 342,113\n",
      "Trainable params: 342,113\n",
      "Non-trainable params: 0\n",
      "_________________________________________________________________\n"
     ]
    }
   ],
   "source": [
    "vocab_size = 10000    # 어휘 사전의 크기입니다(10,000개의 단어)\n",
    "word_vector_dim = 16 # 워드 벡터의 차원수 (변경가능한 하이퍼파라미터)\n",
    "\n",
    "# LSTM 모델 설계\n",
    "lstm_model = keras.Sequential()\n",
    "lstm_model.add(keras.layers.Embedding(vocab_size, word_vector_dim, input_shape=(None,)))\n",
    "lstm_model.add(keras.layers.LSTM(16))\n",
    "lstm_model.add(keras.layers.Dense(vocab_size, activation='relu'))\n",
    "lstm_model.add(keras.layers.Dense(1, activation='sigmoid'))  # 최종 출력은 긍정/부정을 나타내는 1dim 입니다.\n",
    "\n",
    "lstm_model.summary()"
   ]
  },
  {
   "cell_type": "code",
   "execution_count": 9,
   "metadata": {},
   "outputs": [
    {
     "name": "stdout",
     "output_type": "stream",
     "text": [
      "Model: \"sequential_1\"\n",
      "_________________________________________________________________\n",
      "Layer (type)                 Output Shape              Param #   \n",
      "=================================================================\n",
      "embedding_1 (Embedding)      (None, None, 16)          160000    \n",
      "_________________________________________________________________\n",
      "dropout (Dropout)            (None, None, 16)          0         \n",
      "_________________________________________________________________\n",
      "conv1d (Conv1D)              (None, None, 256)         28928     \n",
      "_________________________________________________________________\n",
      "max_pooling1d (MaxPooling1D) (None, None, 256)         0         \n",
      "_________________________________________________________________\n",
      "conv1d_1 (Conv1D)            (None, None, 128)         229504    \n",
      "_________________________________________________________________\n",
      "global_max_pooling1d (Global (None, 128)               0         \n",
      "_________________________________________________________________\n",
      "dense_2 (Dense)              (None, 64)                8256      \n",
      "_________________________________________________________________\n",
      "dropout_1 (Dropout)          (None, 64)                0         \n",
      "_________________________________________________________________\n",
      "dense_3 (Dense)              (None, 1)                 65        \n",
      "=================================================================\n",
      "Total params: 426,753\n",
      "Trainable params: 426,753\n",
      "Non-trainable params: 0\n",
      "_________________________________________________________________\n"
     ]
    }
   ],
   "source": [
    "# 1-D CNN\n",
    "from tensorflow.keras.models import Sequential\n",
    "from tensorflow.keras.layers import Embedding, Dropout, Conv1D, GlobalMaxPooling1D, Dense, MaxPooling1D\n",
    "from tensorflow.keras.callbacks import EarlyStopping, ModelCheckpoint\n",
    "from tensorflow.keras.models import load_model\n",
    "\n",
    "cnn_model = keras.Sequential()\n",
    "\n",
    "cnn_model.add(keras.layers.Embedding(vocab_size, word_vector_dim, input_shape=(None,)))\n",
    "cnn_model.add(Dropout(0.5)) # 과적합을 방지하기 위해 dropout을 추가하였다.\n",
    "cnn_model.add(Conv1D(256, 7, padding='valid', activation='relu'))\n",
    "cnn_model.add(MaxPooling1D(5))\n",
    "cnn_model.add(Conv1D(128, 7, padding='valid', activation='relu'))\n",
    "cnn_model.add(GlobalMaxPooling1D())\n",
    "cnn_model.add(Dense(64, activation='relu'))\n",
    "cnn_model.add(Dropout(0.5))\n",
    "cnn_model.add(Dense(1, activation='sigmoid'))\n",
    "\n",
    "cnn_model.summary()"
   ]
  },
  {
   "cell_type": "code",
   "execution_count": 10,
   "metadata": {},
   "outputs": [
    {
     "name": "stdout",
     "output_type": "stream",
     "text": [
      "Model: \"sequential_2\"\n",
      "_________________________________________________________________\n",
      "Layer (type)                 Output Shape              Param #   \n",
      "=================================================================\n",
      "embedding_2 (Embedding)      (None, None, 16)          160000    \n",
      "_________________________________________________________________\n",
      "global_max_pooling1d_1 (Glob (None, 16)                0         \n",
      "_________________________________________________________________\n",
      "dense_4 (Dense)              (None, 10000)             170000    \n",
      "_________________________________________________________________\n",
      "dense_5 (Dense)              (None, 1)                 10001     \n",
      "=================================================================\n",
      "Total params: 340,001\n",
      "Trainable params: 340,001\n",
      "Non-trainable params: 0\n",
      "_________________________________________________________________\n"
     ]
    }
   ],
   "source": [
    "maxp_model = keras.Sequential()\n",
    "maxp_model.add(keras.layers.Embedding(vocab_size, word_vector_dim, input_shape=(None,)))\n",
    "maxp_model.add(keras.layers.GlobalMaxPooling1D())\n",
    "maxp_model.add(keras.layers.Dense(vocab_size, activation='relu'))\n",
    "maxp_model.add(keras.layers.Dense(1, activation='sigmoid')) \n",
    "maxp_model.summary()"
   ]
  },
  {
   "cell_type": "code",
   "execution_count": 11,
   "metadata": {},
   "outputs": [
    {
     "name": "stdout",
     "output_type": "stream",
     "text": [
      "(136182, 41)\n",
      "(136182,)\n"
     ]
    }
   ],
   "source": [
    "# validation set 10000건 분리\n",
    "X_val = X_train[:10000]   \n",
    "y_val = y_train[:10000]\n",
    "\n",
    "# validation set을 제외한 나머지 (146182-10000)건\n",
    "partial_x_train = X_train[10000:]  \n",
    "partial_y_train = y_train[10000:]\n",
    "\n",
    "print(partial_x_train.shape)\n",
    "print(partial_y_train.shape)"
   ]
  },
  {
   "cell_type": "markdown",
   "metadata": {},
   "source": [
    "## 1.5 모델 훈련 개시\n",
    "- 과적합판단을 위해 중간 과정으로 삽입한 코드\n",
    "     - 4번째에서 과적합이 판단되어 epoch를 10 이상으로 하지 않았다.\n",
    "```\n",
    "es = EarlyStopping(monitor = 'val_loss', mode = 'min', verbose = 1, patience = 3)\n",
    "mc = ModelCheckpoint('best_model.h5', monitor = 'val_acc', mode = 'max', verbose = 1, save_best_only = True)\n",
    "```"
   ]
  },
  {
   "cell_type": "code",
   "execution_count": 12,
   "metadata": {},
   "outputs": [
    {
     "name": "stdout",
     "output_type": "stream",
     "text": [
      "Epoch 1/10\n",
      "532/532 [==============================] - 3s 5ms/step - loss: 0.3975 - accuracy: 0.8179 - val_loss: 0.3542 - val_accuracy: 0.8462\n",
      "Epoch 2/10\n",
      "532/532 [==============================] - 2s 4ms/step - loss: 0.3267 - accuracy: 0.8606 - val_loss: 0.3373 - val_accuracy: 0.8535\n",
      "Epoch 3/10\n",
      "532/532 [==============================] - 2s 4ms/step - loss: 0.3015 - accuracy: 0.8735 - val_loss: 0.3371 - val_accuracy: 0.8537\n",
      "Epoch 4/10\n",
      "532/532 [==============================] - 2s 4ms/step - loss: 0.2813 - accuracy: 0.8825 - val_loss: 0.3358 - val_accuracy: 0.8539\n",
      "Epoch 5/10\n",
      "532/532 [==============================] - 2s 4ms/step - loss: 0.2597 - accuracy: 0.8922 - val_loss: 0.3516 - val_accuracy: 0.8559\n",
      "Epoch 6/10\n",
      "532/532 [==============================] - 2s 4ms/step - loss: 0.2362 - accuracy: 0.9023 - val_loss: 0.3593 - val_accuracy: 0.8549\n",
      "Epoch 7/10\n",
      "532/532 [==============================] - 2s 4ms/step - loss: 0.2161 - accuracy: 0.9110 - val_loss: 0.4064 - val_accuracy: 0.8551\n",
      "Epoch 8/10\n",
      "532/532 [==============================] - 2s 4ms/step - loss: 0.1988 - accuracy: 0.9173 - val_loss: 0.4268 - val_accuracy: 0.8505\n",
      "Epoch 9/10\n",
      "532/532 [==============================] - 2s 4ms/step - loss: 0.1838 - accuracy: 0.9239 - val_loss: 0.4490 - val_accuracy: 0.8472\n",
      "Epoch 10/10\n",
      "532/532 [==============================] - 2s 4ms/step - loss: 0.1720 - accuracy: 0.9292 - val_loss: 0.5169 - val_accuracy: 0.8467\n",
      "Epoch 1/10\n",
      "532/532 [==============================] - 8s 15ms/step - loss: 0.4581 - accuracy: 0.7715 - val_loss: 0.3603 - val_accuracy: 0.8427\n",
      "Epoch 2/10\n",
      "532/532 [==============================] - 3s 5ms/step - loss: 0.3539 - accuracy: 0.8507 - val_loss: 0.3340 - val_accuracy: 0.8556\n",
      "Epoch 3/10\n",
      "532/532 [==============================] - 3s 5ms/step - loss: 0.3310 - accuracy: 0.8604 - val_loss: 0.3304 - val_accuracy: 0.8576\n",
      "Epoch 4/10\n",
      "532/532 [==============================] - 3s 5ms/step - loss: 0.3148 - accuracy: 0.8689 - val_loss: 0.3275 - val_accuracy: 0.8569\n",
      "Epoch 5/10\n",
      "532/532 [==============================] - 3s 5ms/step - loss: 0.3018 - accuracy: 0.8751 - val_loss: 0.3280 - val_accuracy: 0.8584\n",
      "Epoch 6/10\n",
      "532/532 [==============================] - 3s 5ms/step - loss: 0.2926 - accuracy: 0.8788 - val_loss: 0.3164 - val_accuracy: 0.8642\n",
      "Epoch 7/10\n",
      "532/532 [==============================] - 3s 6ms/step - loss: 0.2849 - accuracy: 0.8821 - val_loss: 0.3228 - val_accuracy: 0.8638\n",
      "Epoch 8/10\n",
      "532/532 [==============================] - 3s 5ms/step - loss: 0.2760 - accuracy: 0.8860 - val_loss: 0.3335 - val_accuracy: 0.8595\n",
      "Epoch 9/10\n",
      "532/532 [==============================] - 3s 5ms/step - loss: 0.2704 - accuracy: 0.8889 - val_loss: 0.3257 - val_accuracy: 0.8618\n",
      "Epoch 10/10\n",
      "532/532 [==============================] - 3s 5ms/step - loss: 0.2646 - accuracy: 0.8918 - val_loss: 0.3388 - val_accuracy: 0.8562\n",
      "Epoch 1/10\n",
      "532/532 [==============================] - 2s 3ms/step - loss: 0.4204 - accuracy: 0.7995 - val_loss: 0.3491 - val_accuracy: 0.8425\n",
      "Epoch 2/10\n",
      "532/532 [==============================] - 2s 3ms/step - loss: 0.3315 - accuracy: 0.8570 - val_loss: 0.3476 - val_accuracy: 0.8434\n",
      "Epoch 3/10\n",
      "532/532 [==============================] - 2s 3ms/step - loss: 0.3082 - accuracy: 0.8697 - val_loss: 0.3521 - val_accuracy: 0.8436\n",
      "Epoch 4/10\n",
      "532/532 [==============================] - 2s 3ms/step - loss: 0.2919 - accuracy: 0.8783 - val_loss: 0.3568 - val_accuracy: 0.8418\n",
      "Epoch 5/10\n",
      "532/532 [==============================] - 2s 3ms/step - loss: 0.2775 - accuracy: 0.8851 - val_loss: 0.3623 - val_accuracy: 0.8421\n",
      "Epoch 6/10\n",
      "532/532 [==============================] - 2s 3ms/step - loss: 0.2646 - accuracy: 0.8914 - val_loss: 0.3683 - val_accuracy: 0.8390\n",
      "Epoch 7/10\n",
      "532/532 [==============================] - 2s 3ms/step - loss: 0.2526 - accuracy: 0.8985 - val_loss: 0.3737 - val_accuracy: 0.8431\n",
      "Epoch 8/10\n",
      "532/532 [==============================] - 2s 3ms/step - loss: 0.2414 - accuracy: 0.9036 - val_loss: 0.3887 - val_accuracy: 0.8367\n",
      "Epoch 9/10\n",
      "532/532 [==============================] - 2s 3ms/step - loss: 0.2305 - accuracy: 0.9087 - val_loss: 0.3888 - val_accuracy: 0.8345\n",
      "Epoch 10/10\n",
      "532/532 [==============================] - 2s 3ms/step - loss: 0.2193 - accuracy: 0.9137 - val_loss: 0.4148 - val_accuracy: 0.8342\n"
     ]
    }
   ],
   "source": [
    "lstm_model.compile(optimizer='adam', loss='binary_crossentropy', metrics=['accuracy'])\n",
    "cnn_model.compile(optimizer='adam', loss='binary_crossentropy', metrics=['accuracy'])\n",
    "maxp_model.compile(optimizer='adam', loss='binary_crossentropy', metrics=['accuracy'])\n",
    "              \n",
    "epochs = 10           # 몇 epoch를 훈련하면 좋을지 결과를 보면서 바꾸어 봅시다.\n",
    "\n",
    "lstm_history = lstm_model.fit(partial_x_train, partial_y_train, epochs=epochs, batch_size=256, validation_data=(X_val, y_val), verbose = 1)\n",
    "cnn_history = cnn_model.fit(partial_x_train, partial_y_train, epochs=epochs, batch_size=256, validation_data=(X_val, y_val), verbose = 1)\n",
    "maxp_history = maxp_model.fit(partial_x_train, partial_y_train, epochs=epochs, batch_size=256, validation_data=(X_val, y_val), verbose = 1)"
   ]
  },
  {
   "cell_type": "markdown",
   "metadata": {},
   "source": [
    "## 1.6 Loss, Accuracy 그래프 시각화"
   ]
  },
  {
   "cell_type": "code",
   "execution_count": 13,
   "metadata": {},
   "outputs": [
    {
     "name": "stdout",
     "output_type": "stream",
     "text": [
      "1537/1537 - 2s - loss: 0.5153 - accuracy: 0.8441\n",
      "1537/1537 - 3s - loss: 0.3481 - accuracy: 0.8495\n",
      "1537/1537 - 1s - loss: 0.4350 - accuracy: 0.8309\n",
      "[0.5152854323387146, 0.8441117405891418] [0.3480774462223053, 0.8494619131088257] [0.4350074827671051, 0.8309294581413269]\n"
     ]
    }
   ],
   "source": [
    "lstm_results = lstm_model.evaluate(X_test,  y_test, verbose=2)\n",
    "cnn_results = cnn_model.evaluate(X_test,  y_test, verbose=2)\n",
    "maxp_results = maxp_model.evaluate(X_test,  y_test, verbose=2)\n",
    "\n",
    "print(lstm_results, cnn_results, maxp_results)"
   ]
  },
  {
   "cell_type": "markdown",
   "metadata": {},
   "source": [
    "- 세 모델 모두 loss는 0.3~0.5, 정확도는 약 84% 수준이었다."
   ]
  },
  {
   "cell_type": "code",
   "execution_count": 14,
   "metadata": {},
   "outputs": [
    {
     "name": "stdout",
     "output_type": "stream",
     "text": [
      "dict_keys(['loss', 'accuracy', 'val_loss', 'val_accuracy']) dict_keys(['loss', 'accuracy', 'val_loss', 'val_accuracy']) dict_keys(['loss', 'accuracy', 'val_loss', 'val_accuracy'])\n"
     ]
    },
    {
     "data": {
      "image/png": "[encoded data removed]",
      "text/plain": [
       "<Figure size 360x864 with 3 Axes>"
      ]
     },
     "metadata": {
      "needs_background": "light"
     },
     "output_type": "display_data"
    }
   ],
   "source": [
    "lstm_history_dict = lstm_history.history\n",
    "cnn_history_dict = cnn_history.history\n",
    "maxp_history_dict = maxp_history.history\n",
    "print(lstm_history_dict.keys(),cnn_history_dict.keys(), maxp_history_dict.keys())# epoch에 따른 그래프를 그려볼 수 있는 항목들\n",
    "\n",
    "import matplotlib.pyplot as plt\n",
    "lstm_acc = lstm_history_dict['accuracy']\n",
    "lstm_val_acc = lstm_history_dict['val_accuracy']\n",
    "lstm_loss = lstm_history_dict['loss']\n",
    "lstm_val_loss = lstm_history_dict['val_loss']\n",
    "\n",
    "cnn_acc = cnn_history_dict['accuracy']\n",
    "cnn_val_acc = cnn_history_dict['val_accuracy']\n",
    "cnn_loss = cnn_history_dict['loss']\n",
    "cnn_val_loss = cnn_history_dict['val_loss']\n",
    "\n",
    "maxp_acc = maxp_history_dict['accuracy']\n",
    "maxp_val_acc = maxp_history_dict['val_accuracy']\n",
    "maxp_loss = maxp_history_dict['loss']\n",
    "maxp_val_loss = maxp_history_dict['val_loss']\n",
    "\n",
    "x_epochs = range(1, epochs + 1)\n",
    "\n",
    "# \"bo\"는 \"파란색 점\"입니다 # b는 \"파란 실선\"입니다\n",
    "fig = plt.figure(figsize=(5, 12))\n",
    "plt.subplot(3,1,1)\n",
    "plt.plot(x_epochs, lstm_loss, 'bo', label='Training loss')\n",
    "plt.plot(x_epochs, lstm_val_loss, 'b', label='Validation loss')\n",
    "plt.title('Training and validation loss using LSTM')\n",
    "# plt.xlabel('Epochs')\n",
    "plt.ylabel('Loss')\n",
    "plt.legend()\n",
    "\n",
    "plt.subplot(3,1,2)\n",
    "plt.plot(x_epochs, cnn_loss, 'bo', label='Training loss')\n",
    "plt.plot(x_epochs, cnn_val_loss, 'b', label='Validation loss')\n",
    "plt.title('Training and validation loss using CNN')\n",
    "# plt.xlabel('Epochs')\n",
    "plt.ylabel('Loss')\n",
    "plt.legend()\n",
    "\n",
    "plt.subplot(3,1,3)\n",
    "plt.plot(x_epochs, maxp_loss, 'bo', label='Training loss')\n",
    "plt.plot(x_epochs, maxp_val_loss, 'b', label='Validation loss')\n",
    "plt.title('Training and validation loss using MaxPooling1D')\n",
    "plt.xlabel('Epochs')\n",
    "plt.ylabel('Loss')\n",
    "plt.legend()\n",
    "\n",
    "plt.show()"
   ]
  },
  {
   "cell_type": "code",
   "execution_count": 15,
   "metadata": {},
   "outputs": [
    {
     "data": {
      "image/png": "[encoded data removed]",
      "text/plain": [
       "<Figure size 360x864 with 3 Axes>"
      ]
     },
     "metadata": {
      "needs_background": "light"
     },
     "output_type": "display_data"
    }
   ],
   "source": [
    "# 모델 별 정확도 그래프\n",
    "fig = plt.figure(figsize=(5, 12))\n",
    "plt.subplot(3,1,1)\n",
    "plt.plot(x_epochs, lstm_acc, 'bo', label='Training acc')\n",
    "plt.plot(x_epochs, lstm_val_acc, 'b', label='Validation acc')\n",
    "plt.title('Training and validation acc using LSTM')\n",
    "plt.ylabel('Accuracy')\n",
    "plt.legend()\n",
    "\n",
    "plt.subplot(3,1,2)\n",
    "plt.plot(x_epochs, cnn_acc, 'bo', label='Training acc')\n",
    "plt.plot(x_epochs, cnn_val_acc, 'b', label='Validation acc')\n",
    "plt.title('Training and validation acc using CNN')\n",
    "plt.ylabel('Accuracy')\n",
    "plt.legend()\n",
    "\n",
    "plt.subplot(3,1,3)\n",
    "plt.plot(x_epochs, maxp_acc, 'bo', label='Training acc')\n",
    "plt.plot(x_epochs, maxp_val_acc, 'b', label='Validation acc')\n",
    "plt.title('Training and validation acc using MaxPooling1D')\n",
    "plt.xlabel('Epochs')\n",
    "plt.ylabel('Accuracy')\n",
    "plt.legend()\n",
    "\n",
    "plt.show()"
   ]
  },
  {
   "cell_type": "markdown",
   "metadata": {},
   "source": [
    "- 학습 loss, acc와 검증 loss, acc의 차이가 존재해 학습 모델의 타당성을 의심하게 되었다."
   ]
  },
  {
   "cell_type": "markdown",
   "metadata": {},
   "source": [
    "## 1.7 학습된 Embedding 레이어 분석"
   ]
  },
  {
   "cell_type": "markdown",
   "metadata": {},
   "source": [
    "- gensim 을 이용해 워드벡터 다뤄보기"
   ]
  },
  {
   "cell_type": "code",
   "execution_count": 18,
   "metadata": {},
   "outputs": [
    {
     "name": "stdout",
     "output_type": "stream",
     "text": [
      "(10000, 16)\n"
     ]
    }
   ],
   "source": [
    "embedding_layer = lstm_model.layers[0] # 임의로 레이어를 잡았다.\n",
    "weights = embedding_layer.get_weights()[0]\n",
    "print(weights.shape)    # shape: (vocab_size, embedding_dim)"
   ]
  },
  {
   "cell_type": "code",
   "execution_count": 21,
   "metadata": {},
   "outputs": [],
   "source": [
    "import os\n",
    "\n",
    "# 학습한 Embedding 파라미터를 파일에 써서 저장합니다. \n",
    "word2vec_file_path = os.getenv('HOME')+'/aiffel/sentiment_classification/word2vec.txt'\n",
    "f = open(word2vec_file_path, 'w')\n",
    "f.write('{} {}\\n'.format(vocab_size-4, word_vector_dim))  # 몇개의 벡터를 얼마 사이즈로 기재할지 타이틀을 씁니다.\n",
    "\n",
    "# 단어 개수(에서 특수문자 4개는 제외하고)만큼의 워드 벡터를 파일에 기록합니다. \n",
    "vectors = lstm_model.get_weights()[0]\n",
    "for i in range(4,vocab_size):\n",
    "    f.write('{} {}\\n'.format(index_to_word[i], ' '.join(map(str, list(vectors[i, :])))))\n",
    "f.close()"
   ]
  },
  {
   "cell_type": "code",
   "execution_count": 22,
   "metadata": {},
   "outputs": [],
   "source": [
    "from gensim.models.keyedvectors import Word2VecKeyedVectors\n",
    "\n",
    "word_vectors = Word2VecKeyedVectors.load_word2vec_format(word2vec_file_path,binary=False)"
   ]
  },
  {
   "cell_type": "markdown",
   "metadata": {},
   "source": [
    "## 1.8 한국어 Word2Vec 임베딩 활용하여 성능개선\n",
    "[한국어 word2vec 다운링크](https://github.com/Kyubyong/wordvectors)"
   ]
  },
  {
   "cell_type": "code",
   "execution_count": 23,
   "metadata": {
    "scrolled": false
   },
   "outputs": [
    {
     "data": {
      "text/plain": [
       "[('악귀', 0.6136887073516846),\n",
       " ('악령', 0.6043179035186768),\n",
       " ('요괴', 0.5954419374465942),\n",
       " ('괴물', 0.5644373893737793),\n",
       " ('무당', 0.5481067895889282),\n",
       " ('신령', 0.5346256494522095),\n",
       " ('악마', 0.5342945456504822),\n",
       " ('천둥', 0.5210751891136169),\n",
       " ('무서워하', 0.5206892490386963),\n",
       " ('마귀', 0.5190808176994324)]"
      ]
     },
     "execution_count": 23,
     "metadata": {},
     "output_type": "execute_result"
    }
   ],
   "source": [
    "import os\n",
    "from gensim.models import KeyedVectors\n",
    "\n",
    "kor_word2vec_path = os.getenv('HOME')+'/aiffel/sentiment_classification/ko (1)/ko.vec'\n",
    "kor_word2vec = KeyedVectors.load_word2vec_format(kor_word2vec_path)\n",
    "kor_word2vec.similar_by_word(\"귀신\")"
   ]
  },
  {
   "cell_type": "markdown",
   "metadata": {},
   "source": [
    "- 귀신과 관련된 단어가 나오는 것을 볼 수 있는데, 관련정도가 그렇게 높지 않다."
   ]
  },
  {
   "cell_type": "code",
   "execution_count": 24,
   "metadata": {},
   "outputs": [],
   "source": [
    "# 이전 모델의 임베딩 레이어를 word2vec로 교체해서 다시 학습\n",
    "vocab_size = 10000    # 어휘 사전의 크기입니다(10,000개의 단어)\n",
    "word_vector_dim = 200  # 워드 벡터의 차원수 (변경가능한 하이퍼파라미터)\n",
    "\n",
    "embedding_matrix = np.random.rand(vocab_size, word_vector_dim)\n",
    "\n",
    "# embedding_matrix에 Word2Vec 워드벡터를 단어 하나씩마다 차례차례 카피한다.\n",
    "for i in range(4,vocab_size):\n",
    "    if index_to_word[i] in kor_word2vec:\n",
    "        embedding_matrix[i] = kor_word2vec[index_to_word[i]]"
   ]
  },
  {
   "cell_type": "code",
   "execution_count": 25,
   "metadata": {},
   "outputs": [
    {
     "name": "stdout",
     "output_type": "stream",
     "text": [
      "Model: \"sequential_3\"\n",
      "_________________________________________________________________\n",
      "Layer (type)                 Output Shape              Param #   \n",
      "=================================================================\n",
      "embedding_3 (Embedding)      (None, 41, 200)           2000000   \n",
      "_________________________________________________________________\n",
      "lstm_1 (LSTM)                (None, 16)                13888     \n",
      "_________________________________________________________________\n",
      "dense_6 (Dense)              (None, 10000)             170000    \n",
      "_________________________________________________________________\n",
      "dense_7 (Dense)              (None, 1)                 10001     \n",
      "=================================================================\n",
      "Total params: 2,193,889\n",
      "Trainable params: 2,193,889\n",
      "Non-trainable params: 0\n",
      "_________________________________________________________________\n",
      "Model: \"sequential_4\"\n",
      "_________________________________________________________________\n",
      "Layer (type)                 Output Shape              Param #   \n",
      "=================================================================\n",
      "embedding_4 (Embedding)      (None, 41, 200)           2000000   \n",
      "_________________________________________________________________\n",
      "dropout_2 (Dropout)          (None, 41, 200)           0         \n",
      "_________________________________________________________________\n",
      "conv1d_2 (Conv1D)            (None, 35, 256)           358656    \n",
      "_________________________________________________________________\n",
      "max_pooling1d_1 (MaxPooling1 (None, 7, 256)            0         \n",
      "_________________________________________________________________\n",
      "conv1d_3 (Conv1D)            (None, 1, 128)            229504    \n",
      "_________________________________________________________________\n",
      "global_max_pooling1d_2 (Glob (None, 128)               0         \n",
      "_________________________________________________________________\n",
      "dense_8 (Dense)              (None, 64)                8256      \n",
      "_________________________________________________________________\n",
      "dropout_3 (Dropout)          (None, 64)                0         \n",
      "_________________________________________________________________\n",
      "dense_9 (Dense)              (None, 1)                 65        \n",
      "=================================================================\n",
      "Total params: 2,596,481\n",
      "Trainable params: 2,596,481\n",
      "Non-trainable params: 0\n",
      "_________________________________________________________________\n",
      "Model: \"sequential_5\"\n",
      "_________________________________________________________________\n",
      "Layer (type)                 Output Shape              Param #   \n",
      "=================================================================\n",
      "embedding_5 (Embedding)      (None, 41, 200)           2000000   \n",
      "_________________________________________________________________\n",
      "global_max_pooling1d_3 (Glob (None, 200)               0         \n",
      "_________________________________________________________________\n",
      "dense_10 (Dense)             (None, 10000)             2010000   \n",
      "_________________________________________________________________\n",
      "dense_11 (Dense)             (None, 1)                 10001     \n",
      "=================================================================\n",
      "Total params: 4,020,001\n",
      "Trainable params: 4,020,001\n",
      "Non-trainable params: 0\n",
      "_________________________________________________________________\n"
     ]
    }
   ],
   "source": [
    "from tensorflow.keras.initializers import Constant\n",
    "# 앞서 구현했던 모델들에서 embedding 부분만 변경했다.\n",
    "\n",
    "# LSTM\n",
    "k_lstm_model = keras.Sequential()\n",
    "k_lstm_model.add(keras.layers.Embedding(vocab_size, word_vector_dim, embeddings_initializer=Constant(embedding_matrix),  # 카피한 임베딩을 여기서 활용\n",
    "                                 input_length=maxlen, trainable=True))\n",
    "k_lstm_model.add(keras.layers.LSTM(16))\n",
    "k_lstm_model.add(keras.layers.Dense(vocab_size, activation='relu'))\n",
    "k_lstm_model.add(keras.layers.Dense(1, activation='sigmoid'))  # 최종 출력은 긍정/부정을 나타내는 1dim 입니다.\n",
    "\n",
    "k_lstm_model.summary()\n",
    "\n",
    "# 1-D CNN 모델 구성 \n",
    "k_cnn_model = keras.Sequential()\n",
    "k_cnn_model.add(keras.layers.Embedding(vocab_size, word_vector_dim, embeddings_initializer=Constant(embedding_matrix),  # 카피한 임베딩을 여기서 활용\n",
    "                                 input_length=maxlen, trainable=True))   # trainable을 True로 주면 Fine-tuning\n",
    "k_cnn_model.add(Dropout(0.5))\n",
    "k_cnn_model.add(Conv1D(256, 7, padding='valid', activation='relu'))\n",
    "k_cnn_model.add(MaxPooling1D(5))\n",
    "k_cnn_model.add(Conv1D(128, 7, padding='valid', activation='relu'))\n",
    "k_cnn_model.add(GlobalMaxPooling1D())\n",
    "k_cnn_model.add(Dense(64, activation='relu'))\n",
    "k_cnn_model.add(Dropout(0.5))\n",
    "k_cnn_model.add(Dense(1, activation='sigmoid'))\n",
    "\n",
    "k_cnn_model.summary()\n",
    "\n",
    "# MaxPooling1D 모델\n",
    "k_maxp_model = keras.Sequential()\n",
    "k_maxp_model.add(keras.layers.Embedding(vocab_size, word_vector_dim, embeddings_initializer=Constant(embedding_matrix),  # 카피한 임베딩을 여기서 활용\n",
    "                                 input_length=maxlen, trainable=True))\n",
    "k_maxp_model.add(GlobalMaxPooling1D())\n",
    "k_maxp_model.add(Dense(vocab_size, activation='relu'))\n",
    "k_maxp_model.add(Dense(1, activation='sigmoid')) \n",
    "                 \n",
    "k_maxp_model.summary()"
   ]
  },
  {
   "cell_type": "code",
   "execution_count": 26,
   "metadata": {},
   "outputs": [
    {
     "name": "stdout",
     "output_type": "stream",
     "text": [
      "(136182, 41)\n",
      "(136182,)\n",
      "Epoch 1/10\n",
      "532/532 [==============================] - 10s 19ms/step - loss: 0.4054 - accuracy: 0.8110 - val_loss: 0.3344 - val_accuracy: 0.8567\n",
      "Epoch 2/10\n",
      "532/532 [==============================] - 10s 18ms/step - loss: 0.3151 - accuracy: 0.8645 - val_loss: 0.3171 - val_accuracy: 0.8605\n",
      "Epoch 3/10\n",
      "532/532 [==============================] - 10s 18ms/step - loss: 0.2790 - accuracy: 0.8820 - val_loss: 0.3217 - val_accuracy: 0.8615\n",
      "Epoch 4/10\n",
      "532/532 [==============================] - 10s 18ms/step - loss: 0.2497 - accuracy: 0.8959 - val_loss: 0.3201 - val_accuracy: 0.8639\n",
      "Epoch 5/10\n",
      "532/532 [==============================] - 10s 18ms/step - loss: 0.2228 - accuracy: 0.9095 - val_loss: 0.3352 - val_accuracy: 0.8648\n",
      "Epoch 6/10\n",
      "532/532 [==============================] - 10s 18ms/step - loss: 0.1961 - accuracy: 0.9216 - val_loss: 0.3702 - val_accuracy: 0.8566\n",
      "Epoch 7/10\n",
      "532/532 [==============================] - 10s 18ms/step - loss: 0.1722 - accuracy: 0.9322 - val_loss: 0.3834 - val_accuracy: 0.8599\n",
      "Epoch 8/10\n",
      "532/532 [==============================] - 10s 18ms/step - loss: 0.1498 - accuracy: 0.9419 - val_loss: 0.4524 - val_accuracy: 0.8575\n",
      "Epoch 9/10\n",
      "532/532 [==============================] - 10s 18ms/step - loss: 0.1316 - accuracy: 0.9498 - val_loss: 0.5362 - val_accuracy: 0.8540\n",
      "Epoch 10/10\n",
      "532/532 [==============================] - 10s 18ms/step - loss: 0.1162 - accuracy: 0.9555 - val_loss: 0.5451 - val_accuracy: 0.8527\n",
      "Epoch 1/10\n",
      "532/532 [==============================] - 14s 26ms/step - loss: 0.5526 - accuracy: 0.6896 - val_loss: 0.3737 - val_accuracy: 0.8374\n",
      "Epoch 2/10\n",
      "532/532 [==============================] - 11s 20ms/step - loss: 0.3830 - accuracy: 0.8332 - val_loss: 0.3394 - val_accuracy: 0.8535\n",
      "Epoch 3/10\n",
      "532/532 [==============================] - 11s 20ms/step - loss: 0.3465 - accuracy: 0.8507 - val_loss: 0.3240 - val_accuracy: 0.8586\n",
      "Epoch 4/10\n",
      "532/532 [==============================] - 11s 20ms/step - loss: 0.3221 - accuracy: 0.8634 - val_loss: 0.3194 - val_accuracy: 0.8578\n",
      "Epoch 5/10\n",
      "532/532 [==============================] - 11s 20ms/step - loss: 0.2995 - accuracy: 0.8738 - val_loss: 0.3092 - val_accuracy: 0.8642\n",
      "Epoch 6/10\n",
      "532/532 [==============================] - 11s 20ms/step - loss: 0.2803 - accuracy: 0.8834 - val_loss: 0.3095 - val_accuracy: 0.8661\n",
      "Epoch 7/10\n",
      "532/532 [==============================] - 11s 20ms/step - loss: 0.2620 - accuracy: 0.8916 - val_loss: 0.3098 - val_accuracy: 0.8662\n",
      "Epoch 8/10\n",
      "532/532 [==============================] - 11s 20ms/step - loss: 0.2451 - accuracy: 0.8987 - val_loss: 0.3151 - val_accuracy: 0.8654\n",
      "Epoch 9/10\n",
      "532/532 [==============================] - 11s 20ms/step - loss: 0.2291 - accuracy: 0.9064 - val_loss: 0.3170 - val_accuracy: 0.8695\n",
      "Epoch 10/10\n",
      "532/532 [==============================] - 11s 20ms/step - loss: 0.2140 - accuracy: 0.9122 - val_loss: 0.3289 - val_accuracy: 0.8675\n",
      "Epoch 1/10\n",
      "532/532 [==============================] - 9s 18ms/step - loss: 0.5803 - accuracy: 0.6897 - val_loss: 0.4839 - val_accuracy: 0.7605\n",
      "Epoch 2/10\n",
      "532/532 [==============================] - 9s 17ms/step - loss: 0.3945 - accuracy: 0.8196 - val_loss: 0.3908 - val_accuracy: 0.8203\n",
      "Epoch 3/10\n",
      "532/532 [==============================] - 9s 17ms/step - loss: 0.3491 - accuracy: 0.8459 - val_loss: 0.3795 - val_accuracy: 0.8249\n",
      "Epoch 4/10\n",
      "532/532 [==============================] - 9s 17ms/step - loss: 0.3160 - accuracy: 0.8646 - val_loss: 0.3944 - val_accuracy: 0.8267\n",
      "Epoch 5/10\n",
      "532/532 [==============================] - 9s 17ms/step - loss: 0.2923 - accuracy: 0.8780 - val_loss: 0.3866 - val_accuracy: 0.8294\n",
      "Epoch 6/10\n",
      "532/532 [==============================] - 9s 17ms/step - loss: 0.2696 - accuracy: 0.8890 - val_loss: 0.3804 - val_accuracy: 0.8330\n",
      "Epoch 7/10\n",
      "532/532 [==============================] - 9s 17ms/step - loss: 0.2456 - accuracy: 0.9010 - val_loss: 0.3877 - val_accuracy: 0.8367\n",
      "Epoch 8/10\n",
      "532/532 [==============================] - 9s 17ms/step - loss: 0.2249 - accuracy: 0.9105 - val_loss: 0.4251 - val_accuracy: 0.8325\n",
      "Epoch 9/10\n",
      "532/532 [==============================] - 9s 17ms/step - loss: 0.2029 - accuracy: 0.9217 - val_loss: 0.4330 - val_accuracy: 0.8350\n",
      "Epoch 10/10\n",
      "532/532 [==============================] - 9s 17ms/step - loss: 0.1802 - accuracy: 0.9311 - val_loss: 0.4672 - val_accuracy: 0.8314\n"
     ]
    }
   ],
   "source": [
    "# validation set 10000건 분리\n",
    "X_val = X_train[:10000]   \n",
    "y_val = y_train[:10000]\n",
    "\n",
    "# validation set을 제외한 나머지 (146182-10000)건\n",
    "partial_x_train = X_train[10000:]  \n",
    "partial_y_train = y_train[10000:]\n",
    "\n",
    "print(partial_x_train.shape)\n",
    "print(partial_y_train.shape)\n",
    "# 학습 진행\n",
    "\n",
    "k_lstm_model.compile(optimizer='adam', loss='binary_crossentropy', metrics=['accuracy'])\n",
    "k_cnn_model.compile(optimizer='adam', loss='binary_crossentropy', metrics=['accuracy'])\n",
    "k_maxp_model.compile(optimizer='adam', loss='binary_crossentropy', metrics=['accuracy'])\n",
    "              \n",
    "epochs = 10           # 몇 epoch를 훈련하면 좋을지 결과를 보면서 바꾸어 봅시다.\n",
    "\n",
    "k_lstm_history = k_lstm_model.fit(partial_x_train, partial_y_train, epochs=epochs, batch_size=256, validation_data=(X_val, y_val), verbose = 1)# callbacks=[es])\n",
    "k_cnn_history = k_cnn_model.fit(partial_x_train, partial_y_train, epochs=epochs, batch_size=256, validation_data=(X_val, y_val), verbose = 1)# callbacks=[es])\n",
    "k_maxp_history = k_maxp_model.fit(partial_x_train, partial_y_train, epochs=epochs, batch_size=256, validation_data=(X_val, y_val), verbose = 1)# callbacks=[es])"
   ]
  },
  {
   "cell_type": "code",
   "execution_count": 27,
   "metadata": {},
   "outputs": [
    {
     "name": "stdout",
     "output_type": "stream",
     "text": [
      "1537/1537 - 3s - loss: 0.5404 - accuracy: 0.8505\n",
      "1537/1537 - 3s - loss: 0.3504 - accuracy: 0.8609\n",
      "1537/1537 - 2s - loss: 0.4866 - accuracy: 0.8237\n",
      "[0.5404054522514343, 0.8505401015281677] [0.35038700699806213, 0.860874354839325] [0.48662251234054565, 0.823667049407959]\n"
     ]
    }
   ],
   "source": [
    "# 테스트셋을 통한 세 모델 평가\n",
    "k_lstm_results = k_lstm_model.evaluate(X_test,  y_test, verbose=2)\n",
    "k_cnn_results = k_cnn_model.evaluate(X_test,  y_test, verbose=2)\n",
    "k_maxp_results = k_maxp_model.evaluate(X_test,  y_test, verbose=2)\n",
    "\n",
    "print(k_lstm_results, k_cnn_results, k_maxp_results)"
   ]
  },
  {
   "cell_type": "code",
   "execution_count": 28,
   "metadata": {},
   "outputs": [
    {
     "name": "stdout",
     "output_type": "stream",
     "text": [
      "dict_keys(['loss', 'accuracy', 'val_loss', 'val_accuracy']) dict_keys(['loss', 'accuracy', 'val_loss', 'val_accuracy']) dict_keys(['loss', 'accuracy', 'val_loss', 'val_accuracy'])\n"
     ]
    },
    {
     "data": {
      "image/png": "[encoded data removed]",
      "text/plain": [
       "<Figure size 576x864 with 3 Axes>"
      ]
     },
     "metadata": {
      "needs_background": "light"
     },
     "output_type": "display_data"
    }
   ],
   "source": [
    "k_lstm_history_dict = k_lstm_history.history\n",
    "k_cnn_history_dict = k_cnn_history.history\n",
    "k_maxp_history_dict = k_maxp_history.history\n",
    "print(k_lstm_history_dict.keys(), k_cnn_history_dict.keys(), k_maxp_history_dict.keys()) # epoch에 따른 그래프를 그려볼 수 있는 항목들\n",
    "\n",
    "import matplotlib.pyplot as plt\n",
    "k_lstm_acc = k_lstm_history_dict['accuracy']\n",
    "k_lstm_val_acc = k_lstm_history_dict['val_accuracy']\n",
    "k_lstm_loss = k_lstm_history_dict['loss']\n",
    "k_lstm_val_loss = k_lstm_history_dict['val_loss']\n",
    "\n",
    "k_cnn_acc = k_cnn_history_dict['accuracy']\n",
    "k_cnn_val_acc = k_cnn_history_dict['val_accuracy']\n",
    "k_cnn_loss = k_cnn_history_dict['loss']\n",
    "k_cnn_val_loss = k_cnn_history_dict['val_loss']\n",
    "\n",
    "k_maxp_acc = k_maxp_history_dict['accuracy']\n",
    "k_maxp_val_acc = k_maxp_history_dict['val_accuracy']\n",
    "k_maxp_loss = k_maxp_history_dict['loss']\n",
    "k_maxp_val_loss = k_maxp_history_dict['val_loss']\n",
    "\n",
    "x_epochs = range(1, epochs + 1)\n",
    "\n",
    "fig = plt.figure(figsize=(8, 12))\n",
    "plt.subplot(3,1,1)\n",
    "plt.plot(x_epochs, k_lstm_loss, 'bo', label='Training loss')\n",
    "plt.plot(x_epochs, k_lstm_val_loss, 'b', label='Validation loss')\n",
    "plt.title('Training and validation loss using LSTM')\n",
    "plt.ylabel('Loss')\n",
    "plt.legend()\n",
    "\n",
    "plt.subplot(3,1,2)\n",
    "plt.plot(x_epochs, k_cnn_loss, 'bo', label='Training loss')\n",
    "plt.plot(x_epochs, k_cnn_val_loss, 'b', label='Validation loss')\n",
    "plt.title('Training and validation loss using CNN')\n",
    "plt.ylabel('Loss')\n",
    "plt.legend()\n",
    "\n",
    "plt.subplot(3,1,3)\n",
    "plt.plot(x_epochs, k_maxp_loss, 'bo', label='Training loss')\n",
    "plt.plot(x_epochs, k_maxp_val_loss, 'b', label='Validation loss')\n",
    "plt.title('Training and validation loss using MaxPooling1D')\n",
    "plt.xlabel('Epochs')\n",
    "plt.ylabel('Loss')\n",
    "plt.legend()\n",
    "\n",
    "plt.show()"
   ]
  },
  {
   "cell_type": "code",
   "execution_count": 29,
   "metadata": {},
   "outputs": [
    {
     "data": {
      "image/png": "[encoded data removed]",
      "text/plain": [
       "<Figure size 360x864 with 3 Axes>"
      ]
     },
     "metadata": {
      "needs_background": "light"
     },
     "output_type": "display_data"
    }
   ],
   "source": [
    "# word2vec 이용한 모델 별 정확도 그래프\n",
    "fig = plt.figure(figsize=(5, 12))\n",
    "plt.subplot(3,1,1)\n",
    "plt.plot(x_epochs, k_lstm_acc, 'bo', label='Training acc')\n",
    "plt.plot(x_epochs, k_lstm_val_acc, 'b', label='Validation acc')\n",
    "plt.title('Training and validation acc using LSTM')\n",
    "plt.ylabel('Accuracy')\n",
    "plt.legend()\n",
    "\n",
    "plt.subplot(3,1,2)\n",
    "plt.plot(x_epochs, k_cnn_acc, 'bo', label='Training acc')\n",
    "plt.plot(x_epochs, k_cnn_val_acc, 'b', label='Validation acc')\n",
    "plt.title('Training and validation acc using CNN')\n",
    "plt.ylabel('Accuracy')\n",
    "plt.legend()\n",
    "\n",
    "plt.subplot(3,1,3)\n",
    "plt.plot(x_epochs, k_maxp_acc, 'bo', label='Training acc')\n",
    "plt.plot(x_epochs, k_maxp_val_acc, 'b', label='Validation acc')\n",
    "plt.title('Training and validation acc using MaxPooling1D')\n",
    "plt.xlabel('Epochs')\n",
    "plt.ylabel('Accuracy')\n",
    "plt.legend()\n",
    "\n",
    "plt.show()"
   ]
  },
  {
   "cell_type": "markdown",
   "metadata": {},
   "source": [
    "---\n",
    "## 루비닉\n",
    "#### 1. 다양한 방법으로 Text Classification 태스크를 성공적으로 구현하였다.\n",
    "#### 2. gensim을 활용하여 자체학습된 혹은 사전학습된 임베딩 레이어를 분석하였다.\n",
    "- 1, 2번은 위에 나와있다.  \n",
    "\n",
    "#### 3. 한국어 Word2Vec을 활용하여 가시적인 성능향상을 달성했다.\n",
    "- 노드 그대로의 모델을 가져와 성능향상을 보려고 했으나, Word2Vec의 데이터로는 한계가 있다고 생각해 모델을 새로 구축해서 학습하게 되었다. 그래프를 통해 Word2Vec의 큰 성능 향상은 아니지만 1% 가량 상승한 것을 볼 수 있었다. 과적합의 문제가 있는 것으로 판단해 CNN 모델을 다시 구축했을 때, dropout을 이용하여 어느 비율의 데이터는 학습에 통과시키지 않는 방법을 사용했다. 다른 모델들보다 성능향상이 있는 것으로 봐서 더 좋은 모델을 사용하면 성능이 더 상승할 것으로 예상된다.\n",
    "---\n",
    "## 마무리\n",
    "2021.01.21 THUR\n",
    "- 자연어분석이 이미지모델보다 어려울 것은 예상했지만, 이미지보다 시각적으로 보이는게 없어서 코드를 이해하는데 오래 걸렸다. 가위바위보 분석기에서도 마찬가지지만 데이터가 좋으면 분석 정도도 좋은 것은 잘 정제된 데이터 word2vec를 통한 분석으로 볼 수 있었다. 이전까지의 노드에서는 모델에 관한 고민보다 데이터나 평가나 코드이해해 더 중점을 두었지만, 이번 노드에서는 CNN 모델을 다듬으로써 더 좋은 성능을 만들 수 있다는 것을 알게 되었다."
   ]
  }
 ],
 "metadata": {
  "kernelspec": {
   "display_name": "aiffel",
   "language": "python",
   "name": "aiffel"
  },
  "language_info": {
   "codemirror_mode": {
    "name": "ipython",
    "version": 3
   },
   "file_extension": ".py",
   "mimetype": "text/x-python",
   "name": "python",
   "nbconvert_exporter": "python",
   "pygments_lexer": "ipython3",
   "version": "3.7.9"
  }
 },
 "nbformat": 4,
 "nbformat_minor": 4
}
