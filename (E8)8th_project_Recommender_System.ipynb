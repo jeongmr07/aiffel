{
 "cells": [
  {
   "cell_type": "markdown",
   "id": "smaller-location",
   "metadata": {},
   "source": [
    "# AIFFEL 여덟번째 프로젝트 : Movielens 영화 추천 실습\n",
    "- 이번에 활용할 데이터셋은 추천시스템의 MNIST라고 부를만한 **Movielens 데이터**\n",
    "\n",
    "    - 유저가 영화에 대해 평점을 매긴 데이터가 데이터 크기 별로 존재\n",
    "    - MovieLens 1M Dataset 사용을 권장\n",
    "    - 별점 데이터는 대표적인 explicit 데이터지만 implicit 데이터로 간주하고 테스트 가능\n",
    "    - 별점을 시청횟수로 해석\n",
    "    - 또한 유저가 3점 미만으로 준 데이터는 선호하지 않는다고 가정하고 제외\n",
    "\n",
    "## 0. 데이터 다운\n",
    "```\n",
    "1) wget으로 데이터 다운로드\n",
    "$ wget http://files.grouplens.org/datasets/movielens/ml-1m.zip\n",
    "2) 다운받은 데이터를 작업디렉토리로 옮김\n",
    "$ mv ml-1m.zip ~/aiffel/recommendata_iu/data\n",
    "3) 작업디렉토리로 이동\n",
    "$ cd ~/aiffel/recommendata_iu/data\n",
    "4) 압축 해제\n",
    "$ unzip ml-1m.zip\n",
    "```\n",
    "\n",
    "## 1. 데이터 준비와 전처리\n",
    "- Movielens 데이터는 `rating.dat` 안에 이미 인덱싱까지 완료된 사용자-영화-평점 데이터가 깔끔하게 정리되어 있다."
   ]
  },
  {
   "cell_type": "code",
   "execution_count": 1,
   "id": "signal-tobago",
   "metadata": {},
   "outputs": [
    {
     "data": {
      "text/html": [
       "<div>\n",
       "<style scoped>\n",
       "    .dataframe tbody tr th:only-of-type {\n",
       "        vertical-align: middle;\n",
       "    }\n",
       "\n",
       "    .dataframe tbody tr th {\n",
       "        vertical-align: top;\n",
       "    }\n",
       "\n",
       "    .dataframe thead th {\n",
       "        text-align: right;\n",
       "    }\n",
       "</style>\n",
       "<table border=\"1\" class=\"dataframe\">\n",
       "  <thead>\n",
       "    <tr style=\"text-align: right;\">\n",
       "      <th></th>\n",
       "      <th>user_id</th>\n",
       "      <th>movie_id</th>\n",
       "      <th>rating</th>\n",
       "      <th>timestamp</th>\n",
       "    </tr>\n",
       "  </thead>\n",
       "  <tbody>\n",
       "    <tr>\n",
       "      <th>1000204</th>\n",
       "      <td>6040</td>\n",
       "      <td>1091</td>\n",
       "      <td>1</td>\n",
       "      <td>956716541</td>\n",
       "    </tr>\n",
       "    <tr>\n",
       "      <th>1000205</th>\n",
       "      <td>6040</td>\n",
       "      <td>1094</td>\n",
       "      <td>5</td>\n",
       "      <td>956704887</td>\n",
       "    </tr>\n",
       "    <tr>\n",
       "      <th>1000206</th>\n",
       "      <td>6040</td>\n",
       "      <td>562</td>\n",
       "      <td>5</td>\n",
       "      <td>956704746</td>\n",
       "    </tr>\n",
       "    <tr>\n",
       "      <th>1000207</th>\n",
       "      <td>6040</td>\n",
       "      <td>1096</td>\n",
       "      <td>4</td>\n",
       "      <td>956715648</td>\n",
       "    </tr>\n",
       "    <tr>\n",
       "      <th>1000208</th>\n",
       "      <td>6040</td>\n",
       "      <td>1097</td>\n",
       "      <td>4</td>\n",
       "      <td>956715569</td>\n",
       "    </tr>\n",
       "  </tbody>\n",
       "</table>\n",
       "</div>"
      ],
      "text/plain": [
       "         user_id  movie_id  rating  timestamp\n",
       "1000204     6040      1091       1  956716541\n",
       "1000205     6040      1094       5  956704887\n",
       "1000206     6040       562       5  956704746\n",
       "1000207     6040      1096       4  956715648\n",
       "1000208     6040      1097       4  956715569"
      ]
     },
     "execution_count": 1,
     "metadata": {},
     "output_type": "execute_result"
    }
   ],
   "source": [
    "import pandas as pd\n",
    "import os\n",
    "\n",
    "rating_file_path=os.getenv('HOME') + '/aiffel/recommendata_iu/data/ml-1m/ratings.dat'\n",
    "ratings_cols = ['user_id', 'movie_id', 'rating', 'timestamp']\n",
    "ratings = pd.read_csv(rating_file_path, sep='::', names=ratings_cols, engine='python')\n",
    "orginal_data_size = len(ratings)\n",
    "ratings.head()\n",
    "ratings.tail()"
   ]
  },
  {
   "cell_type": "code",
   "execution_count": 2,
   "id": "lyric-notification",
   "metadata": {},
   "outputs": [
    {
     "name": "stdout",
     "output_type": "stream",
     "text": [
      "orginal_data_size: 1000209, filtered_data_size: 836478\n",
      "Ratio of Remaining Data is 83.63%\n"
     ]
    }
   ],
   "source": [
    "# 3점 이상만 남깁니다.\n",
    "ratings = ratings[ratings['rating']>=3]\n",
    "filtered_data_size = len(ratings)\n",
    "\n",
    "print(f'orginal_data_size: {orginal_data_size}, filtered_data_size: {filtered_data_size}')\n",
    "print(f'Ratio of Remaining Data is {filtered_data_size / orginal_data_size:.2%}')"
   ]
  },
  {
   "cell_type": "code",
   "execution_count": 3,
   "id": "fitted-slave",
   "metadata": {},
   "outputs": [],
   "source": [
    "# rating 컬럼의 이름을 count로 바꿉니다.\n",
    "ratings.rename(columns={'rating':'count'}, inplace=True)"
   ]
  },
  {
   "cell_type": "code",
   "execution_count": 4,
   "id": "respiratory-logistics",
   "metadata": {},
   "outputs": [],
   "source": [
    "# ratings['count']"
   ]
  },
  {
   "cell_type": "code",
   "execution_count": 5,
   "id": "nominated-worth",
   "metadata": {},
   "outputs": [
    {
     "data": {
      "text/html": [
       "<div>\n",
       "<style scoped>\n",
       "    .dataframe tbody tr th:only-of-type {\n",
       "        vertical-align: middle;\n",
       "    }\n",
       "\n",
       "    .dataframe tbody tr th {\n",
       "        vertical-align: top;\n",
       "    }\n",
       "\n",
       "    .dataframe thead th {\n",
       "        text-align: right;\n",
       "    }\n",
       "</style>\n",
       "<table border=\"1\" class=\"dataframe\">\n",
       "  <thead>\n",
       "    <tr style=\"text-align: right;\">\n",
       "      <th></th>\n",
       "      <th>movie_id</th>\n",
       "      <th>title</th>\n",
       "      <th>genre</th>\n",
       "    </tr>\n",
       "  </thead>\n",
       "  <tbody>\n",
       "    <tr>\n",
       "      <th>0</th>\n",
       "      <td>1</td>\n",
       "      <td>Toy Story (1995)</td>\n",
       "      <td>Animation|Children's|Comedy</td>\n",
       "    </tr>\n",
       "    <tr>\n",
       "      <th>1</th>\n",
       "      <td>2</td>\n",
       "      <td>Jumanji (1995)</td>\n",
       "      <td>Adventure|Children's|Fantasy</td>\n",
       "    </tr>\n",
       "    <tr>\n",
       "      <th>2</th>\n",
       "      <td>3</td>\n",
       "      <td>Grumpier Old Men (1995)</td>\n",
       "      <td>Comedy|Romance</td>\n",
       "    </tr>\n",
       "    <tr>\n",
       "      <th>3</th>\n",
       "      <td>4</td>\n",
       "      <td>Waiting to Exhale (1995)</td>\n",
       "      <td>Comedy|Drama</td>\n",
       "    </tr>\n",
       "    <tr>\n",
       "      <th>4</th>\n",
       "      <td>5</td>\n",
       "      <td>Father of the Bride Part II (1995)</td>\n",
       "      <td>Comedy</td>\n",
       "    </tr>\n",
       "  </tbody>\n",
       "</table>\n",
       "</div>"
      ],
      "text/plain": [
       "   movie_id                               title                         genre\n",
       "0         1                    Toy Story (1995)   Animation|Children's|Comedy\n",
       "1         2                      Jumanji (1995)  Adventure|Children's|Fantasy\n",
       "2         3             Grumpier Old Men (1995)                Comedy|Romance\n",
       "3         4            Waiting to Exhale (1995)                  Comedy|Drama\n",
       "4         5  Father of the Bride Part II (1995)                        Comedy"
      ]
     },
     "execution_count": 5,
     "metadata": {},
     "output_type": "execute_result"
    }
   ],
   "source": [
    "# 영화 제목을 보기 위해 메타 데이터를 읽어옵니다.\n",
    "movie_file_path=os.getenv('HOME') + '/aiffel/recommendata_iu/data/ml-1m/movies.dat'\n",
    "cols = ['movie_id', 'title', 'genre'] \n",
    "movies = pd.read_csv(movie_file_path, sep='::', names=cols, engine='python', encoding = 'ISO-8859-1')\n",
    "movies.head()\n",
    "# movies.tail()"
   ]
  },
  {
   "cell_type": "markdown",
   "id": "false-might",
   "metadata": {},
   "source": [
    "## 2. 분석해 봅시다\n",
    "- ratings에 있는 유니크한 영화 개수"
   ]
  },
  {
   "cell_type": "code",
   "execution_count": 6,
   "id": "lined-gathering",
   "metadata": {},
   "outputs": [
    {
     "data": {
      "text/plain": [
       "3628"
      ]
     },
     "execution_count": 6,
     "metadata": {},
     "output_type": "execute_result"
    }
   ],
   "source": [
    "ratings['movie_id'].nunique()"
   ]
  },
  {
   "cell_type": "markdown",
   "id": "norwegian-anger",
   "metadata": {},
   "source": [
    "- ratings에 있는 유니크한 사용자 수"
   ]
  },
  {
   "cell_type": "code",
   "execution_count": 7,
   "id": "sharp-restoration",
   "metadata": {},
   "outputs": [
    {
     "data": {
      "text/plain": [
       "6039"
      ]
     },
     "execution_count": 7,
     "metadata": {},
     "output_type": "execute_result"
    }
   ],
   "source": [
    "ratings['user_id'].nunique()"
   ]
  },
  {
   "cell_type": "markdown",
   "id": "capital-holly",
   "metadata": {},
   "source": [
    "- 가장 인기 있는 영화 30개(인기순)\n",
    "    - 가장 많이 본 영화로 인기를 판가름내기 위해, ratings, movies 데이터프레임을 병합한 movie 데이터프레임을 만들었다."
   ]
  },
  {
   "cell_type": "code",
   "execution_count": 8,
   "id": "announced-georgia",
   "metadata": {},
   "outputs": [
    {
     "data": {
      "text/plain": [
       "title\n",
       "American Beauty (1999)                                   3211\n",
       "Star Wars: Episode IV - A New Hope (1977)                2910\n",
       "Star Wars: Episode V - The Empire Strikes Back (1980)    2885\n",
       "Star Wars: Episode VI - Return of the Jedi (1983)        2716\n",
       "Saving Private Ryan (1998)                               2561\n",
       "Terminator 2: Judgment Day (1991)                        2509\n",
       "Silence of the Lambs, The (1991)                         2498\n",
       "Raiders of the Lost Ark (1981)                           2473\n",
       "Back to the Future (1985)                                2460\n",
       "Matrix, The (1999)                                       2434\n",
       "Jurassic Park (1993)                                     2413\n",
       "Sixth Sense, The (1999)                                  2385\n",
       "Fargo (1996)                                             2371\n",
       "Braveheart (1995)                                        2314\n",
       "Men in Black (1997)                                      2297\n",
       "Schindler's List (1993)                                  2257\n",
       "Princess Bride, The (1987)                               2252\n",
       "Shakespeare in Love (1998)                               2213\n",
       "L.A. Confidential (1997)                                 2210\n",
       "Shawshank Redemption, The (1994)                         2194\n",
       "Godfather, The (1972)                                    2167\n",
       "Groundhog Day (1993)                                     2121\n",
       "E.T. the Extra-Terrestrial (1982)                        2102\n",
       "Being John Malkovich (1999)                              2066\n",
       "Ghostbusters (1984)                                      2051\n",
       "Pulp Fiction (1994)                                      2030\n",
       "Forrest Gump (1994)                                      2022\n",
       "Terminator, The (1984)                                   2019\n",
       "Toy Story (1995)                                         2000\n",
       "Fugitive, The (1993)                                     1941\n",
       "Name: user_id, dtype: int64"
      ]
     },
     "execution_count": 8,
     "metadata": {},
     "output_type": "execute_result"
    }
   ],
   "source": [
    "movie = pd.merge(ratings, movies, on='movie_id', how = 'left')\n",
    "movie\n",
    "\n",
    "movie_count = movie.groupby('title')['user_id'].count()\n",
    "movie_count.sort_values(ascending=False).head(30)\n",
    "# movie_count"
   ]
  },
  {
   "cell_type": "markdown",
   "id": "given-authority",
   "metadata": {},
   "source": [
    "## 3. 내가 선호하는 영화를 5가지 골라서 rating에 추가해 줍시다.\n",
    "### 모델 검증을 하기 위한 사용자 초기 정보 세팅\n",
    "- 유투브, 왓챠 등 추천 시스템을 사용하는 프로그램에서는 추천 과정의 정확도를 높이기 위해, 사용자의 초기 정보를 세팅하는 과정을 거친다. 따라서 우리 프로젝트에서도 내가 좋아하는 영화의 정보를 다섯 가지 세팅해준다.\n",
    "- ratings 데이터프레임과 movies 데이터프레임을 따로 사용하고 있기 때문에, movies 데이터프레임에서 정보를 가져와 ratings 데이터프레임에 저장하는 과정을 거쳤다.\n",
    "- 내 아이디를 넣기 전 가장 마지막 아이디 넘버가 6040 이었기 때문에, 내 아이디를 6041로 설정하였다."
   ]
  },
  {
   "cell_type": "code",
   "execution_count": 10,
   "id": "italic-correction",
   "metadata": {},
   "outputs": [
    {
     "data": {
      "text/html": [
       "<div>\n",
       "<style scoped>\n",
       "    .dataframe tbody tr th:only-of-type {\n",
       "        vertical-align: middle;\n",
       "    }\n",
       "\n",
       "    .dataframe tbody tr th {\n",
       "        vertical-align: top;\n",
       "    }\n",
       "\n",
       "    .dataframe thead th {\n",
       "        text-align: right;\n",
       "    }\n",
       "</style>\n",
       "<table border=\"1\" class=\"dataframe\">\n",
       "  <thead>\n",
       "    <tr style=\"text-align: right;\">\n",
       "      <th></th>\n",
       "      <th>user_id</th>\n",
       "      <th>movie_id</th>\n",
       "      <th>count</th>\n",
       "      <th>timestamp</th>\n",
       "    </tr>\n",
       "  </thead>\n",
       "  <tbody>\n",
       "    <tr>\n",
       "      <th>1000203</th>\n",
       "      <td>6040</td>\n",
       "      <td>1090</td>\n",
       "      <td>3.0</td>\n",
       "      <td>956715518.0</td>\n",
       "    </tr>\n",
       "    <tr>\n",
       "      <th>1000205</th>\n",
       "      <td>6040</td>\n",
       "      <td>1094</td>\n",
       "      <td>5.0</td>\n",
       "      <td>956704887.0</td>\n",
       "    </tr>\n",
       "    <tr>\n",
       "      <th>1000206</th>\n",
       "      <td>6040</td>\n",
       "      <td>562</td>\n",
       "      <td>5.0</td>\n",
       "      <td>956704746.0</td>\n",
       "    </tr>\n",
       "    <tr>\n",
       "      <th>1000207</th>\n",
       "      <td>6040</td>\n",
       "      <td>1096</td>\n",
       "      <td>4.0</td>\n",
       "      <td>956715648.0</td>\n",
       "    </tr>\n",
       "    <tr>\n",
       "      <th>1000208</th>\n",
       "      <td>6040</td>\n",
       "      <td>1097</td>\n",
       "      <td>4.0</td>\n",
       "      <td>956715569.0</td>\n",
       "    </tr>\n",
       "    <tr>\n",
       "      <th>0</th>\n",
       "      <td>6041</td>\n",
       "      <td>296</td>\n",
       "      <td>4.0</td>\n",
       "      <td>NaN</td>\n",
       "    </tr>\n",
       "    <tr>\n",
       "      <th>1</th>\n",
       "      <td>6041</td>\n",
       "      <td>858</td>\n",
       "      <td>4.0</td>\n",
       "      <td>NaN</td>\n",
       "    </tr>\n",
       "    <tr>\n",
       "      <th>2</th>\n",
       "      <td>6041</td>\n",
       "      <td>2571</td>\n",
       "      <td>4.0</td>\n",
       "      <td>NaN</td>\n",
       "    </tr>\n",
       "    <tr>\n",
       "      <th>3</th>\n",
       "      <td>6041</td>\n",
       "      <td>1</td>\n",
       "      <td>4.0</td>\n",
       "      <td>NaN</td>\n",
       "    </tr>\n",
       "    <tr>\n",
       "      <th>4</th>\n",
       "      <td>6041</td>\n",
       "      <td>1097</td>\n",
       "      <td>4.0</td>\n",
       "      <td>NaN</td>\n",
       "    </tr>\n",
       "  </tbody>\n",
       "</table>\n",
       "</div>"
      ],
      "text/plain": [
       "         user_id  movie_id  count    timestamp\n",
       "1000203     6040      1090    3.0  956715518.0\n",
       "1000205     6040      1094    5.0  956704887.0\n",
       "1000206     6040       562    5.0  956704746.0\n",
       "1000207     6040      1096    4.0  956715648.0\n",
       "1000208     6040      1097    4.0  956715569.0\n",
       "0           6041       296    4.0          NaN\n",
       "1           6041       858    4.0          NaN\n",
       "2           6041      2571    4.0          NaN\n",
       "3           6041         1    4.0          NaN\n",
       "4           6041      1097    4.0          NaN"
      ]
     },
     "execution_count": 10,
     "metadata": {},
     "output_type": "execute_result"
    }
   ],
   "source": [
    "my_favorite = ['Pulp Fiction (1994)', 'Godfather, The (1972)', 'Matrix, The (1999)', 'Toy Story (1995)', 'E.T. the Extra-Terrestrial (1982)']\n",
    "# my_favorite_id = movie.loc([x if  for title in movie.title]\n",
    "my_rating = [4.0, 4.0, 4.0, 4.0, 4.0]\n",
    "\n",
    "my_fav_id = []\n",
    "for fav in my_favorite:\n",
    "    movie_fav_id = movie.movie_id[movie.title==fav].drop_duplicates().values\n",
    "    for movieid in movie_fav_id:\n",
    "        my_fav_id.append(movieid)\n",
    "my_fav_id\n",
    "\n",
    "my_movielist = pd.DataFrame({'user_id': [6041]*5, 'movie_id': my_fav_id, 'count': my_rating})\n",
    "my_movielist\n",
    "\n",
    "# ratings.drop(['rating'], axis = 1)\n",
    "if not ratings.isin({'user_id':[6041]})['user_id'].any():  # user_id에 'zimin'이라는 데이터가 없다면\n",
    "    ratings = ratings.append(my_movielist)                           # 위에 임의로 만든 my_favorite 데이터를 추가해 줍니다. \n",
    "\n",
    "ratings.tail(10)       # 잘 추가되었는지 확인해 봅시다."
   ]
  },
  {
   "cell_type": "markdown",
   "id": "domestic-change",
   "metadata": {},
   "source": [
    "## 4. CSR matrix를 직접 만들어 봅시다.\n",
    "### 모델 활용 전 데이터 전처리\n",
    "- 데이터에서 유니크한 데이터를 통해 데이터 별로 *인덱싱* 과정을 거치게 된다. 인덱싱 과정은 데이터 관리를 쉽게 해주기 위해, 데이터 별로 번호를 붙여 주는 과정으로 추천 시스템, 자연어 처리에서 자주 진행하는 작업이다."
   ]
  },
  {
   "cell_type": "code",
   "execution_count": 18,
   "id": "portable-thousand",
   "metadata": {},
   "outputs": [],
   "source": [
    "# 고유한 유저, 아티스트를 찾아내는 코드\n",
    "user_unique = ratings['user_id'].unique() # 특정 컬럼에 포함된 유니크한 데이터만 모아줌\n",
    "movie_unique = ratings['movie_id'].unique()\n",
    "\n",
    "# 유저, 아티스트 indexing 하는 코드 idx는 index의 약자입니다.\n",
    "user_to_idx = {v:k for k,v in enumerate(user_unique)}\n",
    "movie_to_idx = {v:k for k,v in enumerate(movie_unique)}"
   ]
  },
  {
   "cell_type": "code",
   "execution_count": 25,
   "id": "central-algeria",
   "metadata": {},
   "outputs": [
    {
     "name": "stdout",
     "output_type": "stream",
     "text": [
      "user_id column indexing OK!!\n",
      "artist column indexing OK!!\n"
     ]
    },
    {
     "data": {
      "text/html": [
       "<div>\n",
       "<style scoped>\n",
       "    .dataframe tbody tr th:only-of-type {\n",
       "        vertical-align: middle;\n",
       "    }\n",
       "\n",
       "    .dataframe tbody tr th {\n",
       "        vertical-align: top;\n",
       "    }\n",
       "\n",
       "    .dataframe thead th {\n",
       "        text-align: right;\n",
       "    }\n",
       "</style>\n",
       "<table border=\"1\" class=\"dataframe\">\n",
       "  <thead>\n",
       "    <tr style=\"text-align: right;\">\n",
       "      <th></th>\n",
       "      <th>user_id</th>\n",
       "      <th>movie_id</th>\n",
       "      <th>count</th>\n",
       "      <th>timestamp</th>\n",
       "    </tr>\n",
       "  </thead>\n",
       "  <tbody>\n",
       "    <tr>\n",
       "      <th>0</th>\n",
       "      <td>0</td>\n",
       "      <td>0</td>\n",
       "      <td>5.0</td>\n",
       "      <td>978300760.0</td>\n",
       "    </tr>\n",
       "    <tr>\n",
       "      <th>1</th>\n",
       "      <td>0</td>\n",
       "      <td>1</td>\n",
       "      <td>3.0</td>\n",
       "      <td>978302109.0</td>\n",
       "    </tr>\n",
       "    <tr>\n",
       "      <th>2</th>\n",
       "      <td>0</td>\n",
       "      <td>2</td>\n",
       "      <td>3.0</td>\n",
       "      <td>978301968.0</td>\n",
       "    </tr>\n",
       "    <tr>\n",
       "      <th>3</th>\n",
       "      <td>0</td>\n",
       "      <td>3</td>\n",
       "      <td>4.0</td>\n",
       "      <td>978300275.0</td>\n",
       "    </tr>\n",
       "    <tr>\n",
       "      <th>4</th>\n",
       "      <td>0</td>\n",
       "      <td>4</td>\n",
       "      <td>5.0</td>\n",
       "      <td>978824291.0</td>\n",
       "    </tr>\n",
       "    <tr>\n",
       "      <th>...</th>\n",
       "      <td>...</td>\n",
       "      <td>...</td>\n",
       "      <td>...</td>\n",
       "      <td>...</td>\n",
       "    </tr>\n",
       "    <tr>\n",
       "      <th>0</th>\n",
       "      <td>6039</td>\n",
       "      <td>222</td>\n",
       "      <td>4.0</td>\n",
       "      <td>NaN</td>\n",
       "    </tr>\n",
       "    <tr>\n",
       "      <th>1</th>\n",
       "      <td>6039</td>\n",
       "      <td>607</td>\n",
       "      <td>4.0</td>\n",
       "      <td>NaN</td>\n",
       "    </tr>\n",
       "    <tr>\n",
       "      <th>2</th>\n",
       "      <td>6039</td>\n",
       "      <td>124</td>\n",
       "      <td>4.0</td>\n",
       "      <td>NaN</td>\n",
       "    </tr>\n",
       "    <tr>\n",
       "      <th>3</th>\n",
       "      <td>6039</td>\n",
       "      <td>40</td>\n",
       "      <td>4.0</td>\n",
       "      <td>NaN</td>\n",
       "    </tr>\n",
       "    <tr>\n",
       "      <th>4</th>\n",
       "      <td>6039</td>\n",
       "      <td>26</td>\n",
       "      <td>4.0</td>\n",
       "      <td>NaN</td>\n",
       "    </tr>\n",
       "  </tbody>\n",
       "</table>\n",
       "<p>836483 rows × 4 columns</p>\n",
       "</div>"
      ],
      "text/plain": [
       "    user_id  movie_id  count    timestamp\n",
       "0         0         0    5.0  978300760.0\n",
       "1         0         1    3.0  978302109.0\n",
       "2         0         2    3.0  978301968.0\n",
       "3         0         3    4.0  978300275.0\n",
       "4         0         4    5.0  978824291.0\n",
       "..      ...       ...    ...          ...\n",
       "0      6039       222    4.0          NaN\n",
       "1      6039       607    4.0          NaN\n",
       "2      6039       124    4.0          NaN\n",
       "3      6039        40    4.0          NaN\n",
       "4      6039        26    4.0          NaN\n",
       "\n",
       "[836483 rows x 4 columns]"
      ]
     },
     "execution_count": 25,
     "metadata": {},
     "output_type": "execute_result"
    }
   ],
   "source": [
    "# indexing을 통해 데이터 컬럼 내 값을 바꾸는 코드\n",
    "# dictionary 자료형의 get 함수는 https://wikidocs.net/16 을 참고하세요.\n",
    "\n",
    "# user_to_idx.get을 통해 user_id 컬럼의 모든 값을 인덱싱한 Series를 구해 봅시다. \n",
    "# 혹시 정상적으로 인덱싱되지 않은 row가 있다면 인덱스가 NaN이 될 테니 dropna()로 제거합니다. \n",
    "temp_user_data = ratings['user_id'].map(user_to_idx.get).dropna()\n",
    "if len(temp_user_data) == len(ratings):   # 모든 row가 정상적으로 인덱싱되었다면\n",
    "    print('user_id column indexing OK!!')\n",
    "    ratings['user_id'] = temp_user_data   # data['user_id']을 인덱싱된 Series로 교체해 줍니다. \n",
    "else:\n",
    "    print('user_id column indexing Fail!!')\n",
    "\n",
    "# artist_to_idx을 통해 artist 컬럼도 동일한 방식으로 인덱싱해 줍니다. \n",
    "temp_movie_data = ratings['movie_id'].map(movie_to_idx.get).dropna()\n",
    "if len(temp_movie_data) == len(ratings):\n",
    "    print('artist column indexing OK!!')\n",
    "    ratings['movie_id'] = temp_movie_data\n",
    "else:\n",
    "    print('artist column indexing Fail!!')\n",
    "\n",
    "ratings"
   ]
  },
  {
   "cell_type": "code",
   "execution_count": 40,
   "id": "responsible-tract",
   "metadata": {},
   "outputs": [
    {
     "data": {
      "text/plain": [
       "<6040x3628 sparse matrix of type '<class 'numpy.float64'>'\n",
       "\twith 836483 stored elements in Compressed Sparse Row format>"
      ]
     },
     "execution_count": 40,
     "metadata": {},
     "output_type": "execute_result"
    }
   ],
   "source": [
    "from scipy.sparse import csr_matrix\n",
    "\n",
    "num_user = ratings['user_id'].nunique()\n",
    "num_movie = ratings['movie_id'].nunique()\n",
    "\n",
    "csr_data = csr_matrix((ratings['count'], (ratings.user_id, ratings.movie_id)), shape= (num_user, num_movie))\n",
    "csr_data"
   ]
  },
  {
   "cell_type": "markdown",
   "id": "civilian-upset",
   "metadata": {},
   "source": [
    "## 5. als_model = AlternatingLeastSquares 모델을 직접 구성하여 훈련시켜 봅시다."
   ]
  },
  {
   "cell_type": "code",
   "execution_count": 41,
   "id": "finite-mathematics",
   "metadata": {},
   "outputs": [],
   "source": [
    "from implicit.als import AlternatingLeastSquares\n",
    "import os\n",
    "import numpy as np\n",
    "\n",
    "# implicit 라이브러리에서 권장하고 있는 부분입니다. 학습 내용과는 무관합니다.\n",
    "os.environ['OPENBLAS_NUM_THREADS']='1'\n",
    "os.environ['KMP_DUPLICATE_LIB_OK']='True'\n",
    "os.environ['MKL_NUM_THREADS']='1'"
   ]
  },
  {
   "cell_type": "code",
   "execution_count": 42,
   "id": "referenced-tuner",
   "metadata": {},
   "outputs": [],
   "source": [
    "# Implicit AlternatingLeastSquares 모델의 선언\n",
    "als_model = AlternatingLeastSquares(factors=100, regularization=0.01, use_gpu=False, iterations=15, dtype=np.float32)"
   ]
  },
  {
   "cell_type": "code",
   "execution_count": 43,
   "id": "middle-fifty",
   "metadata": {},
   "outputs": [
    {
     "data": {
      "text/plain": [
       "<3628x6040 sparse matrix of type '<class 'numpy.float64'>'\n",
       "\twith 836483 stored elements in Compressed Sparse Column format>"
      ]
     },
     "execution_count": 43,
     "metadata": {},
     "output_type": "execute_result"
    }
   ],
   "source": [
    "# als 모델은 input으로 (item X user 꼴의 matrix를 받기 때문에 Transpose해줍니다.)\n",
    "csr_data_transpose = csr_data.T\n",
    "csr_data_transpose"
   ]
  },
  {
   "cell_type": "code",
   "execution_count": 44,
   "id": "cultural-victorian",
   "metadata": {},
   "outputs": [
    {
     "data": {
      "application/vnd.jupyter.widget-view+json": {
       "model_id": "c8ae0e631bca42e0a06b0794755ebfe9",
       "version_major": 2,
       "version_minor": 0
      },
      "text/plain": [
       "  0%|          | 0/15 [00:00<?, ?it/s]"
      ]
     },
     "metadata": {},
     "output_type": "display_data"
    }
   ],
   "source": [
    "# 모델 훈련\n",
    "als_model.fit(csr_data_transpose)"
   ]
  },
  {
   "cell_type": "markdown",
   "id": "pending-mistress",
   "metadata": {},
   "source": [
    "## 6. 내가 선호하는 5가지 영화 중 하나와 그 외의 영화 하나를 골라 훈련된 모델이 예측한 나의 선호도를 파악해 보세요."
   ]
  },
  {
   "cell_type": "code",
   "execution_count": 47,
   "id": "blank-northern",
   "metadata": {},
   "outputs": [],
   "source": [
    "miri = user_to_idx[6041]\n",
    "miri_vector = als_model.user_factors[miri]"
   ]
  },
  {
   "cell_type": "code",
   "execution_count": 60,
   "id": "psychological-representative",
   "metadata": {},
   "outputs": [
    {
     "data": {
      "text/plain": [
       "(0.3822459, 0.4402602)"
      ]
     },
     "execution_count": 60,
     "metadata": {},
     "output_type": "execute_result"
    }
   ],
   "source": [
    "pulp = movie_to_idx[2571]\n",
    "pulp_vector = als_model.item_factors[pulp]\n",
    "\n",
    "toy = movie_to_idx[1]\n",
    "toy_vector = als_model.item_factors[toy]\n",
    "np.dot(miri_vector, pulp_vector), np.dot(miri_vector, toy_vector)"
   ]
  },
  {
   "cell_type": "markdown",
   "id": "running-classics",
   "metadata": {},
   "source": [
    "- 두 영화의 평점을 같게 뒀고, 4점인 높은 점수였지만 그닥 선호도가 크게 나오지 않는 것을 볼 수 있다. 모델을 더 다듬거나, 데이터프레임에 시청 횟수까지 포함한다면 더 좋은 선호도 결과가 나올 것이다.\n",
    "\n",
    "## 7. 내가 좋아하는 영화와 비슷한 영화를 추천받아 봅시다."
   ]
  },
  {
   "cell_type": "code",
   "execution_count": 66,
   "id": "hybrid-slovenia",
   "metadata": {},
   "outputs": [
    {
     "data": {
      "text/plain": [
       "[('Pulp Fiction (1994)', 'Crime|Drama'),\n",
       " ('GoodFellas (1990)', 'Crime|Drama'),\n",
       " ('Fargo (1996)', 'Crime|Drama|Thriller'),\n",
       " ('Shawshank Redemption, The (1994)', 'Drama'),\n",
       " ('Usual Suspects, The (1995)', 'Crime|Thriller'),\n",
       " ('Silence of the Lambs, The (1991)', 'Drama|Thriller'),\n",
       " ('Reservoir Dogs (1992)', 'Crime|Thriller'),\n",
       " ('Good Will Hunting (1997)', 'Drama'),\n",
       " ('L.A. Confidential (1997)', 'Crime|Film-Noir|Mystery|Thriller'),\n",
       " ('Seven (Se7en) (1995)', 'Crime|Thriller'),\n",
       " (\"Schindler's List (1993)\", 'Drama|War'),\n",
       " ('Jackie Brown (1997)', 'Crime|Drama'),\n",
       " ('Trainspotting (1996)', 'Drama'),\n",
       " ('Condition Red (1995)', 'Action|Drama|Thriller'),\n",
       " ('Few Good Men, A (1992)', 'Crime|Drama')]"
      ]
     },
     "execution_count": 66,
     "metadata": {},
     "output_type": "execute_result"
    }
   ],
   "source": [
    "# favorite_movie = 'Pulp Fiction (1994)'\n",
    "favorite_movie = 296\n",
    "movie_id = movie_to_idx[favorite_movie]\n",
    "similar_movie = als_model.similar_items(movie_id, N=15)\n",
    "similar_movie\n",
    "\n",
    "#artist_to_idx 를 뒤집어, index로부터 artist 이름을 얻는 dict를 생성합니다. \n",
    "idx_to_movie = {v:k for k,v in movie_to_idx.items()}\n",
    "similar_idx = [idx_to_movie[i[0]] for i in similar_movie]\n",
    "\n",
    "similar_movie = []ㅠ\n",
    "for idx in similar_idx:\n",
    "    movie_title = movies.title[movies.movie_id==idx].values\n",
    "    movie_genre = movies.genre[movies.movie_id==idx].values\n",
    "    for movieti in zip(movie_title, movie_genre):\n",
    "        similar_movie.append(movieti)\n",
    "similar_movie"
   ]
  },
  {
   "cell_type": "markdown",
   "id": "separate-world",
   "metadata": {},
   "source": [
    "- 나는 쿠엔틴 타란티노의 영화를 좋아한다. 그의 영화의 대부분은 범죄 장르에 속하는데, 그 영화와 비슷한 장르 혹은 그 감독의 영화도 몇 가지 추천되는 것을 보아 합리적인 결과가 나왔음을 볼 수 있다. 다른 장르에 관한 결과를 파악하고자 애니메이션 영화와 유사한 영화를 추천 받아보았다."
   ]
  },
  {
   "cell_type": "code",
   "execution_count": 68,
   "id": "sorted-belize",
   "metadata": {},
   "outputs": [
    {
     "data": {
      "text/plain": [
       "[('Toy Story (1995)', \"Animation|Children's|Comedy\"),\n",
       " ('Toy Story 2 (1999)', \"Animation|Children's|Comedy\"),\n",
       " (\"Bug's Life, A (1998)\", \"Animation|Children's|Comedy\"),\n",
       " ('Aladdin (1992)', \"Animation|Children's|Comedy|Musical\"),\n",
       " ('Babe (1995)', \"Children's|Comedy|Drama\"),\n",
       " ('Groundhog Day (1993)', 'Comedy|Romance'),\n",
       " ('Lion King, The (1994)', \"Animation|Children's|Musical\"),\n",
       " ('Pleasantville (1998)', 'Comedy'),\n",
       " ('Beauty and the Beast (1991)', \"Animation|Children's|Musical\"),\n",
       " ('Shakespeare in Love (1998)', 'Comedy|Romance'),\n",
       " (\"There's Something About Mary (1998)\", 'Comedy'),\n",
       " ('Mulan (1998)', \"Animation|Children's\"),\n",
       " ('Forrest Gump (1994)', 'Comedy|Romance|War'),\n",
       " ('Hercules (1997)', \"Adventure|Animation|Children's|Comedy|Musical\"),\n",
       " ('Full Monty, The (1997)', 'Comedy')]"
      ]
     },
     "execution_count": 68,
     "metadata": {},
     "output_type": "execute_result"
    }
   ],
   "source": [
    "# favorite_movie = 'Toy Story (1995)'\n",
    "favorite_movie = 1\n",
    "movie_id = movie_to_idx[favorite_movie]\n",
    "similar_movie = als_model.similar_items(movie_id, N=15)\n",
    "similar_movie\n",
    "\n",
    "#artist_to_idx 를 뒤집어, index로부터 artist 이름을 얻는 dict를 생성합니다. \n",
    "idx_to_movie = {v:k for k,v in movie_to_idx.items()}\n",
    "similar_idx = [idx_to_movie[i[0]] for i in similar_movie]\n",
    "\n",
    "similar_movie = []\n",
    "for idx in similar_idx:\n",
    "    movie_title = movies.title[movies.movie_id==idx].values\n",
    "    movie_genre = movies.genre[movies.movie_id==idx].values\n",
    "    for movieti in zip(movie_title, movie_genre):\n",
    "        similar_movie.append(movieti)\n",
    "similar_movie"
   ]
  },
  {
   "cell_type": "markdown",
   "id": "graphic-continuity",
   "metadata": {},
   "source": [
    "- 픽사 제작 영화를 좋아하는데, 애니메이션 강자 디즈니 영화가 많이 나오는 것을 볼 수 있다. 애니메이션 장르 특성상 아이들 영화이거나 코미디 장르가 혼합되어 있기 때문에, 그와 비슷한 영화를 추천하는 것으로 봐서 이 결과도 합리적임을 알 수 있다."
   ]
  },
  {
   "cell_type": "markdown",
   "id": "cross-voltage",
   "metadata": {},
   "source": [
    "## 8. 내가 가장 좋아할 만한 영화들을 추천받아 봅시다."
   ]
  },
  {
   "cell_type": "code",
   "execution_count": 55,
   "id": "minus-consumer",
   "metadata": {},
   "outputs": [
    {
     "data": {
      "text/plain": [
       "[(380, 0.50341654),\n",
       " (121, 0.37386847),\n",
       " (92, 0.3524468),\n",
       " (51, 0.3438506),\n",
       " (50, 0.3436462),\n",
       " (269, 0.34294826),\n",
       " (157, 0.31839952),\n",
       " (317, 0.29181096),\n",
       " (117, 0.2781814),\n",
       " (48, 0.2746763),\n",
       " (44, 0.27399457),\n",
       " (322, 0.25542983),\n",
       " (435, 0.25068626),\n",
       " (224, 0.24238707),\n",
       " (4, 0.23891158),\n",
       " (200, 0.23650926),\n",
       " (233, 0.23047736),\n",
       " (38, 0.22470817),\n",
       " (479, 0.21657082),\n",
       " (110, 0.21223934)]"
      ]
     },
     "execution_count": 55,
     "metadata": {},
     "output_type": "execute_result"
    }
   ],
   "source": [
    "user = user_to_idx[6041]\n",
    "\n",
    "# recommend에서는 user*item CSR Matrix를 받습니다.\n",
    "movie_recommended = als_model.recommend(user, csr_data, N=20, filter_already_liked_items=True)\n",
    "movie_recommended"
   ]
  },
  {
   "cell_type": "code",
   "execution_count": 65,
   "id": "comparative-monthly",
   "metadata": {},
   "outputs": [
    {
     "data": {
      "text/plain": [
       "[('Godfather: Part II, The (1974)', 'Action|Crime|Drama'),\n",
       " ('Silence of the Lambs, The (1991)', 'Drama|Thriller'),\n",
       " ('Terminator 2: Judgment Day (1991)', 'Action|Sci-Fi|Thriller'),\n",
       " ('Fargo (1996)', 'Crime|Drama|Thriller'),\n",
       " ('Toy Story 2 (1999)', \"Animation|Children's|Comedy\"),\n",
       " ('GoodFellas (1990)', 'Crime|Drama'),\n",
       " ('Shawshank Redemption, The (1994)', 'Drama'),\n",
       " ('Twelve Monkeys (1995)', 'Drama|Sci-Fi'),\n",
       " ('Star Wars: Episode V - The Empire Strikes Back (1980)',\n",
       "  'Action|Adventure|Drama|Sci-Fi|War'),\n",
       " ('Saving Private Ryan (1998)', 'Action|Drama|War'),\n",
       " ('Star Wars: Episode IV - A New Hope (1977)',\n",
       "  'Action|Adventure|Fantasy|Sci-Fi'),\n",
       " ('Babe (1995)', \"Children's|Comedy|Drama\"),\n",
       " ('Godfather: Part III, The (1990)', 'Action|Crime|Drama'),\n",
       " ('L.A. Confidential (1997)', 'Crime|Film-Noir|Mystery|Thriller'),\n",
       " (\"Bug's Life, A (1998)\", \"Animation|Children's|Comedy\"),\n",
       " ('Terminator, The (1984)', 'Action|Sci-Fi|Thriller'),\n",
       " ('Usual Suspects, The (1995)', 'Crime|Thriller'),\n",
       " ('Sixth Sense, The (1999)', 'Thriller'),\n",
       " ('Contact (1997)', 'Drama|Sci-Fi'),\n",
       " ('Groundhog Day (1993)', 'Comedy|Romance')]"
      ]
     },
     "execution_count": 65,
     "metadata": {},
     "output_type": "execute_result"
    }
   ],
   "source": [
    "recom_idx = [idx_to_movie[i[0]] for i in movie_recommended]\n",
    "\n",
    "recom_movie = []\n",
    "for idx in recom_idx:\n",
    "    recom_title = movies.title[movies.movie_id==idx].values\n",
    "    recom_genre = movies.genre[movies.movie_id==idx].values\n",
    "    for title_g in zip(recom_title, recom_genre):\n",
    "        recom_movie.append(title_g)\n",
    "recom_movie"
   ]
  },
  {
   "cell_type": "markdown",
   "id": "short-volunteer",
   "metadata": {},
   "source": [
    "- 내가 좋아하는 장르를 함께 파악하려 리스트에 장르도 추가했다. 좋아하는 영화 장르가 범죄, 스릴러, SF 아니면 애니메이션이라 추천 결과가 두 세개 외에는 보고싶어하던 영화가 결과로 나왔다.\n",
    "\n",
    "---\n",
    "# 루브릭\n",
    "## 1. CSR matrix가 정상적으로 만들어졌다.\n",
    "- 사용자와 아이템 개수를 바탕으로 정확한 사이즈로 만들었다.\n",
    "- 각종 전처리 과정을 거쳐, 사용자 및 아이템 개수를 통해 CSR 행렬을 만들었다. 다른 노드도 그렇고 항상 느끼는 것이지만 **전처리 과정이 가장 오래 걸리고 가장 중요한 과정**임을 또 한 번 느꼈다.\n",
    "\n",
    "## 2. MF 모델이 정상적으로 훈련되어 그럴듯한 추천이 이루어졌다.\n",
    "- 사용자와 아이템 벡터 내적수치가 의미있게 형성되었다.\n",
    "- 각 영화에 대한 선호도 값(벡터 내적값)은 낮았지만, 전체 선호도 자체가 크게 높은 편이 아니었기 때문에, 추천에 대한 결과는 지금 사용하고 있는 왓챠와 비슷하게 나온 편이다. 모델을 더 다듬거나 결과에 영향을 줄만한 데이터 요소들을 더 넣게 되면 더 좋은 결과가 나올 것이다.\n",
    "\n",
    "## 3. 비슷한 영화 찾기와 유저에게 추천하기의 과정이 정상적으로 진행되었다.\n",
    "- MF모델이 예측한 유저 선호도 및 아이템간 유사도, 기여도가 의미있게 측정되었다.\n",
    "- 내가 좋아할만한 영화 추천과 나의 선호도 순서 등의 수치가 의미있게 측정되었다. 루브릭 2와 같은 결과로 장르 추천만 보아도 좋아하는 영화의 선호도가 높게 측정되며 좋은 결과가 도출되었다.\n",
    "\n",
    "---\n",
    "# 마무리\n",
    "2021 02 16 TUE\n",
    "- 연휴를 맞아 놀았더니 또 과제가 밀려 있다. 두 데이터프레임을 합해서 CSR matrix나 모델 진행을 했으면, 굳이 중간 코드 작성 없이 영화 타이틀을 바로 보여주게끔 할 수 있었다. CSR matrix에서 오류가 날 것 같아 추가적으로 점차 수정하려 한다.\n",
    "- rating 컬럼을 count로 변경하는 과정은 굳이 필요하지 않은 것 같다. 메소드로 사용하고 있는 단어이기 때문에, 오류가 생길 확률이 많다. 변수 네이밍의 중요성!"
   ]
  }
 ],
 "metadata": {
  "kernelspec": {
   "display_name": "aiffel",
   "language": "python",
   "name": "aiffel"
  },
  "language_info": {
   "codemirror_mode": {
    "name": "ipython",
    "version": 3
   },
   "file_extension": ".py",
   "mimetype": "text/x-python",
   "name": "python",
   "nbconvert_exporter": "python",
   "pygments_lexer": "ipython3",
   "version": "3.7.9"
  }
 },
 "nbformat": 4,
 "nbformat_minor": 5
}
