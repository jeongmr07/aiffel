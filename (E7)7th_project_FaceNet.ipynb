{
 "cells": [
  {
   "cell_type": "markdown",
   "id": "difficult-california",
   "metadata": {},
   "source": [
    "# AIFFEL 일곱번째 프로젝트 : 나랑 닮은 연예인을 찾아보자\n",
    "## 1. 사진 모으기\n",
    "- `Slack #AIFFEL와글와글` 변효윤 퍼실님이 올려주신 [셀럽사진 파일](https://drive.google.com/file/d/1SCNlkW3l9bzsGhzFVk8DmNdfq9D-sey2/view?usp=sharing)(+보충)로 사진을 모았다.\n",
    "- 그리고 사진 폴더에 내 사진 2장을 `Jeongmr1`, `Jeongmr2`의 이름으로 추가했다."
   ]
  },
  {
   "cell_type": "markdown",
   "id": "reasonable-gather",
   "metadata": {},
   "source": [
    "## 2. 얼굴 영역 자르기\n",
    "- `def get_gropped_face(image_file)` 통해서 잘라주기!\n",
    "    - 자른 이미지는 PIL의 `image.fromarray` 통해서 PIL image로 변환한 뒤에 저장\n",
    "        - 다양한 재미있는 시각화 시도에 도움\n",
    "```\n",
    "#    힌트\n",
    "#    from PIL import Image\n",
    "#    face = get_gropped_face(image_path)\n",
    "#    pillow_image = Image.fromarray(face)\n",
    "#    pillow_image.save(path_to_save)\n",
    "```"
   ]
  },
  {
   "cell_type": "code",
   "execution_count": 1,
   "id": "enabling-motivation",
   "metadata": {},
   "outputs": [],
   "source": [
    "import face_recognition\n",
    "import os\n",
    "import matplotlib.pyplot as plt\n",
    "\n",
    "def get_cropped_face(image_file):\n",
    "\n",
    "    image = face_recognition.load_image_file(image_file)\n",
    "    face_locations = face_recognition.face_locations(image)\n",
    "    if len(face_locations) != 0:        # 아래에서 설명\n",
    "        a, b, c, d = face_locations[0]\n",
    "        cropped_face = image[a:c,d:b,:]\n",
    "    else: cropped_face = []\n",
    "\n",
    "    return cropped_face"
   ]
  },
  {
   "cell_type": "markdown",
   "id": "legendary-mentor",
   "metadata": {},
   "source": [
    "- 얼굴 영역 자르는 과정에서 `face_location`이 아예 잡히지 않는 사진이 종종 있어, 그런 경우는 `get_cropped_face` 함수의 리턴값을 빈 리스트로 두었다. 이는 후에 임베딩 벡터 처리에서 `len`로 거른다."
   ]
  },
  {
   "cell_type": "code",
   "execution_count": 2,
   "id": "desperate-seminar",
   "metadata": {},
   "outputs": [],
   "source": [
    "# 이미지 디렉토리 주소, 디렉토리 안의 파일 리스트\n",
    "dir_path = os.getenv('HOME')+'/aiffel/face_embedding/celebrity'\n",
    "file_list = os.listdir(dir_path)"
   ]
  },
  {
   "cell_type": "markdown",
   "id": "technical-madness",
   "metadata": {},
   "source": [
    "## 3. 얼굴 영역 임베딩 추출하기\n",
    "- 이전에 만든 함수 사용하기\n",
    "- `def get_face_embedding(face)` : 얼굴영역으로부터 얼굴 임베딩 벡터를 구하는 함수\n",
    "- `def get_face_embedding_dict(dir_path)` : 디렉토리 안에 있는 모든 이미지의 임베딩 딕셔너리를 구하는 함수"
   ]
  },
  {
   "cell_type": "code",
   "execution_count": 3,
   "id": "dominican-opportunity",
   "metadata": {},
   "outputs": [],
   "source": [
    "def get_face_embedding(face):\n",
    "    return face_recognition.face_encodings(face)"
   ]
  },
  {
   "cell_type": "code",
   "execution_count": 4,
   "id": "macro-nutrition",
   "metadata": {},
   "outputs": [],
   "source": [
    "def get_face_embedding_dict(dir_path):\n",
    "    file_list = os.listdir(dir_path)\n",
    "    embedding_dict = {}\n",
    "    \n",
    "    for file in file_list:\n",
    "        img_path = os.path.join(dir_path, file)\n",
    "        face = get_cropped_face(img_path)\n",
    "        if len(face) == 0: continue\n",
    "        embedding = get_face_embedding(face)\n",
    "        if len(embedding) > 0:\n",
    "            # 얼굴영역 face가 제대로 detect되지 않으면  len(embedding)==0인 경우가 발생하므로 \n",
    "            # os.path.splitext(file)[0]에는 이미지파일명에서 확장자를 제거한 이름이 담깁니다. \n",
    "            embedding_dict[os.path.splitext(file)[0]] = embedding[0]\n",
    "        \n",
    "    return embedding_dict"
   ]
  },
  {
   "cell_type": "code",
   "execution_count": 5,
   "id": "mineral-journey",
   "metadata": {},
   "outputs": [
    {
     "data": {
      "text/plain": [
       "dict_keys(['류준열', '이동휘', '잭 블랙', '김연우', '시우민', '앤드류 응', '이제훈', '배성우', '조유리', '고창석', 'RM', '차두리', '변요한', '세훈', '이연걸', '나인뮤지스경리', '레드벨벳웬디', '신동엽', '숀 코네리', '지수', '박찬호', '이용진', '이대호', '제이콥 배털론', '김래원', '솔라', '최현석', '켄 정', '손호준', '차명석', '이준혁', '김현수', '봉준호', '트와이스다현', '이동국', '최준석', '이명박', '카이', '오재원', '지드래곤', '러블리즈지수', '송중기', '트와이스미나', '이승기', '목진화', '권태원', '박명수', '티모시 달튼', '김학범', '슬기', '유아', '리사', '박진영', '크리스 햄스워스', '강미나', '야마다 타카유키', '이범수', '존 파브르', 'Jeongmr1', '비니', '잭 니콜슨', '지코', '공효진', '류승룡', '도지한', '효정', '리암 니슨', '박항서', '박성호', '트와이스모모', '박완규', '이성민', '박희순', '지민(BTS)', '트와이스쯔위', '첸', '마동석', '권현빈', '조정치', '최무성', '스윙스', '서현진', '김광현', '류승범', '성시경', '김C', '이진호', '트와이스나연', '태연', '러블리즈예인', '최민식', '윤균상', '줄리엔강', '문별', '유재석', '길', '매드클라운', '승희', '백윤식', '철면수심', '차승원', '이말년', '김희철', '레인보우재경', '로저 무어', '서장훈', '화사', '로제', '류현진', '여자아이들수진', '전소미', '잇지예지', '박나래', '조이', '장도연', '이희준', '방시혁', '기성용', '아린', '강민경', '잇지유나', '아이린', '주진모(올드)', '유희열', '이대형', '제프리 힌턴', '트와이스정연', '찬열', '박서준', '꽈두룹', '잇섭', '정우성', '제이크 질렌할', '하현우', '택연', '이광수', '씨잼', '박용택', '온앤오프효진', '서강준', '홍구', '수지', '이민호', '조원희', '지호', '박휘순', '김유정', '성룡', '잭 스페이더', '톰 홀랜드', '레오나르도 디카프리오', '조정석', '정수빈', '로다주', '크리스 에반스', '류진', '마크 러팔로', '뷔', '이종석', '정준하', '윤종신', '유리', '주호민', '진', '이재용', '김윤석', '이영하', '윤아', '케빈 스페이시', '개코', '영알남', '딕헌터', '슬리피', '배성재', '이천수', '태양', '슈퍼비', '유지태', '개리', '김대중', '슈가', '한석규', '황병국', '돈스파이크', '아이즈원조유리', '디오', '벤 에플렉', '노무현', '박신양', '박보검', '김상호', '브래들리 쿠퍼', '제니', '미미', '사쿠라', '공유', '안재홍', '온앤오프라운', '클린트 이스트우드', '곽도원', '정형돈', '우기', '아놀드 슈워제네거', '아이즈원민주', '최양락', '조승우', '박건우', '이승철', '한기범', '이근대위', '문재인', '이정재', '다니엘 크레이그', '민니', '아이즈원김채원', '하승진', '김종서', '장원영', '김민재', 'b1a4진영', '정국', '리아', '김남주', '티파니', '박정민', '손흥민', '케이', '황정민', '강동원', '지디', '저스틴 존슨', '박찬욱', '무라니시', '채연', '손예진', '장원준', '피어스 브로스넌', '조달환', '차범근', '수호', '제이홉', '크리스탈', '아이유', '차홍', '윤도현', '김경진', '이안 굿펠로우', '대도서관', '윤경신', '옥냥이', 'Jeongmr2', '장성호', '트와이스사나', '김고은', '박재범', '백현', '박해일', '유해진', '드웨인 존슨', '정민철', '김영삼', '잭 갤리퍼내키스', '하정우', '심수창', '노홍철', '이경규', '조인성', '박하선', '이효리', '김구라', '박보영', '장동건', '유노윤호', '온앤오프와이엇'])"
      ]
     },
     "execution_count": 5,
     "metadata": {},
     "output_type": "execute_result"
    }
   ],
   "source": [
    "embedding_dict = get_face_embedding_dict(dir_path)\n",
    "embedding_dict.keys()"
   ]
  },
  {
   "cell_type": "markdown",
   "id": "unexpected-judge",
   "metadata": {},
   "source": [
    "- 파일 리스트에서 '산들', '김대명', '사무엘 L 잭슨' 등 임베딩 되지 않은 리스트는 삭제되었다."
   ]
  },
  {
   "cell_type": "markdown",
   "id": "floppy-reading",
   "metadata": {},
   "source": [
    "## 4. 모은 연예인 사진들과 비교하기\n",
    "- 두 이미지의 임베딩 벡터 사이의 거리를 구하고 top 5 연예인들을 뽑아보자\n",
    "- 두 이미지 거리 구하는 `get_distance` 함수와 거리를 비교하여 순위대로 정리해주는 `get_sort_key_func`을 이용하여 순위를 매겼다."
   ]
  },
  {
   "cell_type": "code",
   "execution_count": 6,
   "id": "removed-pressure",
   "metadata": {},
   "outputs": [],
   "source": [
    "# 두 이미지의 거리구하기\n",
    "import numpy as np\n",
    "def get_distance(name1, name2):\n",
    "    return np.linalg.norm(embedding_dict[name1]-embedding_dict[name2], ord=2)"
   ]
  },
  {
   "cell_type": "code",
   "execution_count": 7,
   "id": "urban-iraqi",
   "metadata": {},
   "outputs": [],
   "source": [
    "# name1과 name2의 거리를 비교하는 함수를 생성하되, name1은 미리 지정하고, name2는 호출시에 인자로 받도록 합니다.\n",
    "def get_sort_key_func(name1):\n",
    "    def get_distance_from_name1(name2):\n",
    "        return get_distance(name1, name2)\n",
    "    return get_distance_from_name1\n",
    "\n",
    "sort_key_func = get_sort_key_func('Jeongmr1')"
   ]
  },
  {
   "cell_type": "markdown",
   "id": "liable-better",
   "metadata": {},
   "source": [
    "- `sorted(embedding_dict.items(), key=lambda x:sort_key_func(x[0]))`\n",
    "    - 결과가 너무 길어 마크다운으로 작성하였다. 임베딩 벡터의 거리가 짧은 사진으로 내 사진 두 장이 먼저 뽑혔다."
   ]
  },
  {
   "cell_type": "code",
   "execution_count": 9,
   "id": "owned-rapid",
   "metadata": {},
   "outputs": [],
   "source": [
    "def get_nearest_face(name, top=5):\n",
    "    sort_key_func = get_sort_key_func(name)\n",
    "    sorted_faces = sorted(embedding_dict.items(), key=lambda x: sort_key_func(x[0]))\n",
    "    \n",
    "    for i in range(top+1):\n",
    "        if i == 0: continue # 첫번째 이름 : 자기자신이므로 제외\n",
    "        if sorted_faces[i]: print('순위 {} : 이름 ({}), 거리({})'.format(i, sorted_faces[i][0], sort_key_func(sorted_faces[i][0])))"
   ]
  },
  {
   "cell_type": "markdown",
   "id": "casual-genius",
   "metadata": {},
   "source": [
    "- 사진 두 장을 이용했더니 결과가 조금씩 달랐으나, top 5 내에 `조유리(아이즈원)`님, `채연(아이즈원)`이 두 번이나 들어가 있어 간단한 시각화에 쓰기로 했다."
   ]
  },
  {
   "cell_type": "code",
   "execution_count": 10,
   "id": "american-junction",
   "metadata": {},
   "outputs": [
    {
     "name": "stdout",
     "output_type": "stream",
     "text": [
      "순위 1 : 이름 (Jeongmr2), 거리(0.4271515709110211)\n",
      "순위 2 : 이름 (아이즈원조유리), 거리(0.4515870187184181)\n",
      "순위 3 : 이름 (김고은), 거리(0.4566686216669167)\n",
      "순위 4 : 이름 (조유리), 거리(0.4623773038728074)\n",
      "순위 5 : 이름 (채연), 거리(0.4674529482998508)\n"
     ]
    }
   ],
   "source": [
    "get_nearest_face('Jeongmr1')"
   ]
  },
  {
   "cell_type": "code",
   "execution_count": 11,
   "id": "furnished-lyric",
   "metadata": {},
   "outputs": [
    {
     "name": "stdout",
     "output_type": "stream",
     "text": [
      "순위 1 : 이름 (우기), 거리(0.351854894971459)\n",
      "순위 2 : 이름 (사쿠라), 거리(0.35752875621488356)\n",
      "순위 3 : 이름 (채연), 거리(0.36521167423101414)\n",
      "순위 4 : 이름 (조유리), 거리(0.3675872405928875)\n",
      "순위 5 : 이름 (승희), 거리(0.37532257870615965)\n"
     ]
    }
   ],
   "source": [
    "get_nearest_face('Jeongmr2')"
   ]
  },
  {
   "cell_type": "markdown",
   "id": "clear-lebanon",
   "metadata": {},
   "source": [
    "## 5. 다양한 재미있는 시각화 시도해보기\n",
    "- 이번 노드에서 소개했던 **PCA와 T-SNE**을 이용하여 시각화를 시도해보려 했으나, 이해가 잘 가지 않아(ㅜㅜ) **tkinter를 이용한 GUI 만들기**로 대체했다.\n",
    "- GUI 새 창의 **라벨, 이미지, 타이틀을 설정**했다.\n",
    "- `get_nearest_face()` 함수를 다시 풀어 값을 `DataFrame` 형식으로 담아 첫번째 이미지를 뽑아오도록 했다. `DataFrame` 형식으로 만든 이유는 5위까지 나오도록 하는 화면을 만들고자 했기 때문이다. tkinter 진행 중에 파이썬에서 처음 GUI를 다뤄봐서 모듈 등 오류가 많아 가장 간단하게 1위의 이미지민 새 창에 띄워지게 해보았다."
   ]
  },
  {
   "cell_type": "code",
   "execution_count": 12,
   "id": "consolidated-bibliography",
   "metadata": {},
   "outputs": [
    {
     "data": {
      "text/html": [
       "<div>\n",
       "<style scoped>\n",
       "    .dataframe tbody tr th:only-of-type {\n",
       "        vertical-align: middle;\n",
       "    }\n",
       "\n",
       "    .dataframe tbody tr th {\n",
       "        vertical-align: top;\n",
       "    }\n",
       "\n",
       "    .dataframe thead th {\n",
       "        text-align: right;\n",
       "    }\n",
       "</style>\n",
       "<table border=\"1\" class=\"dataframe\">\n",
       "  <thead>\n",
       "    <tr style=\"text-align: right;\">\n",
       "      <th></th>\n",
       "      <th>name</th>\n",
       "      <th>distance</th>\n",
       "    </tr>\n",
       "  </thead>\n",
       "  <tbody>\n",
       "    <tr>\n",
       "      <th>0</th>\n",
       "      <td>Jeongmr2</td>\n",
       "      <td>0.427152</td>\n",
       "    </tr>\n",
       "    <tr>\n",
       "      <th>1</th>\n",
       "      <td>아이즈원조유리</td>\n",
       "      <td>0.451587</td>\n",
       "    </tr>\n",
       "    <tr>\n",
       "      <th>2</th>\n",
       "      <td>김고은</td>\n",
       "      <td>0.456669</td>\n",
       "    </tr>\n",
       "    <tr>\n",
       "      <th>3</th>\n",
       "      <td>조유리</td>\n",
       "      <td>0.462377</td>\n",
       "    </tr>\n",
       "    <tr>\n",
       "      <th>4</th>\n",
       "      <td>채연</td>\n",
       "      <td>0.467453</td>\n",
       "    </tr>\n",
       "  </tbody>\n",
       "</table>\n",
       "</div>"
      ],
      "text/plain": [
       "       name  distance\n",
       "0  Jeongmr2  0.427152\n",
       "1   아이즈원조유리  0.451587\n",
       "2       김고은  0.456669\n",
       "3       조유리  0.462377\n",
       "4        채연  0.467453"
      ]
     },
     "execution_count": 12,
     "metadata": {},
     "output_type": "execute_result"
    }
   ],
   "source": [
    "from sklearn import datasets\n",
    "import pandas as pd\n",
    "\n",
    "from sklearn.manifold import TSNE\n",
    "\n",
    "# 거리 데이터 프레임으로 만들기\n",
    "name = 'Jeongmr1'\n",
    "top = 5\n",
    "sort_key_func = get_sort_key_func(name)\n",
    "sorted_faces = sorted(embedding_dict.items(), key=lambda x: sort_key_func(x[0]))\n",
    "label = []\n",
    "distance = []\n",
    "\n",
    "for i in range(top+1):\n",
    "    if i == 0: continue # 첫번째 이름 : 자기자신이므로 제외\n",
    "#     if sorted_faces[i]: print('순위 {} : 이름 ({}), 거리({})'.format(i, sorted_faces[i][0], sort_key_func(sorted_faces[i][0])))\n",
    "    label.append(sorted_faces[i][0])\n",
    "    distance.append(sort_key_func(sorted_faces[i][0]))\n",
    "    \n",
    "df = pd.DataFrame(\n",
    "                {'name':label,\n",
    "                 'distance':distance\n",
    "                })\n",
    "df"
   ]
  },
  {
   "cell_type": "code",
   "execution_count": 20,
   "id": "assigned-stage",
   "metadata": {},
   "outputs": [],
   "source": [
    "from tkinter import *\n",
    "from PIL import ImageTk\n",
    "\n",
    "root = Tk()\n",
    "\n",
    "root.title(\"내 닮은꼴 1위는?\")\n",
    "# root.geometry(\"400x500\")\n",
    "rank1 = df.iloc[1,0]\n",
    "# font=tkinter.font.Font(family=\"NanumGothic\", size=20, slant=\"italic\")\n",
    "label1 = Label(root, text = rank1)#, font = font)\n",
    "file_n = rank1 + '.jpeg'\n",
    "my_image = ImageTk.PhotoImage(file=dir_path+'/'+file_n, master=root)\n",
    "lbl = Label(root, image=my_image)\n",
    "label1.pack()\n",
    "lbl.pack()\n",
    "\n",
    "root.mainloop()"
   ]
  },
  {
   "cell_type": "markdown",
   "id": "another-palestinian",
   "metadata": {},
   "source": [
    "- 아래 그림이 그 결과로 폰트 등 옵션을 더 변경하지 못해 아쉬웠다.\n",
    "\n",
    "![image](https://github.com/jeongmr07/aiffel/blob/master/%EB%8B%AE%EC%9D%80%EA%BC%B4.png?raw=true)"
   ]
  },
  {
   "cell_type": "markdown",
   "id": "progressive-maintenance",
   "metadata": {},
   "source": [
    "---\n",
    "# 루브릭\n",
    "\n",
    "## 1. 얼굴임베딩 벡터를 활용해 가장 닮은 연예인 Best 5 구할 수 있다.\n",
    "- 닮은꼴 순위, 이름, 임베딩 거리를 포함한 Top-5 리스트가 정렬되어 출력되었다.\n",
    "- `get_nearest_face()` 함수를 통해 Top-5 리스트를 정렬해 출력하였다.\n",
    "\n",
    "## 2. 충분한 수의 이미지에 대한 시도를 통해 매우 닮은꼴의 연예인을 찾아냈다.\n",
    "- 다양한 탐색을 통해 임베딩 거리 0.5 이내로 닮은 연예인을 찾아냈다.\n",
    "- `Jeongmr1` 이미지 : 순위 2 : 이름 (아이즈원조유리), 거리(0.4515870187184181), `Jeongmr2` 순위 1 : 이름 (우기), 거리(0.351854894971459)로 임베딩 거리 0.5 이내의 연예인을 찾았다.\n",
    "\n",
    "## 3. 다양하고 재미있는 결과 시각화를 시도하였다.\n",
    "- matplotlib 등 다양한 시각화 도구를 하나 이상 이용해 재미있는 결과 시각화를 구현하였다.\n",
    "- tkinter를 이용해서 사진을 불러와 1위 사진을 띄우는 GUI를 구현해보았다.\n",
    "\n",
    "---\n",
    "# 마무리\n",
    "2021 02 04 THUR\n",
    "- 임베딩 벡터의 이해를 더 깊게 하면 시각적으로 표현할 것도 많아, 더 좋은 결과가 나올 것이라는 생각이 들었다. 생각보다 얼굴 인식과정의 연구가 많이 진행되어 우리는 쉽게 사용하기만 하면 되니 배우는 사람 입장에서 응용할 거리가 많을 것 같다.\n",
    "- `PCA`와 `T-SNE`의 관련 코드의 이해도가 낮아 더 이상의 시각화를 진행하지 못 한게 아쉬웠다. 그를 이용하게 되면, 텐서플로우에서 제공하는 `Projector`를 구현할 수 있을 것이다."
   ]
  }
 ],
 "metadata": {
  "kernelspec": {
   "display_name": "aiffel",
   "language": "python",
   "name": "aiffel"
  },
  "language_info": {
   "codemirror_mode": {
    "name": "ipython",
    "version": 3
   },
   "file_extension": ".py",
   "mimetype": "text/x-python",
   "name": "python",
   "nbconvert_exporter": "python",
   "pygments_lexer": "ipython3",
   "version": "3.7.9"
  }
 },
 "nbformat": 4,
 "nbformat_minor": 5
}
