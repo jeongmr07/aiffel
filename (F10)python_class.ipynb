{
 "cells": [
  {
   "cell_type": "markdown",
   "id": "literary-nicaragua",
   "metadata": {},
   "source": [
    "객체 지향 프로그래밍?\n",
    "1. 객체란?\n",
    "파이썬에서 모든 것은 객체이다. 대부분의 객체는 속성과 메소드를 갖는다.\n",
    "2. 변수\n",
    "변수는 이름이다 ; 이름에 값을 할당한다. 변수는 메모리 주소  \n",
    "진짜 객체를 변수명으로 가리켜 참조할 수 있게  \n",
    "```\n",
    "var = 4  \n",
    "print(id(var), id(4)) # 94230889923424 94230889923424\n",
    "```  \n",
    "![varandvalue](https://aiffelstaticprd.blob.core.windows.net/media/images/f-23-2.1.max-800x600.png)  \n",
    "3. 얕은 복사 / 깊은 복사  \n",
    "- 얕은 복사 : 원본 데이터는 그대로 두고, 참조하는 데이터의 id만 복사하는 것  \n",
    "- 깊은 복사 : 원본 객체의 값 복사  \n",
    "(https://blueshw.github.io/2016/01/20/shallow-copy-deep-copy/)\n",
    "4. 객체 지향 프로그래밍이란? (OOP)  \n",
    "(https://pjh3749.tistory.com/244)  \n",
    "5. 클래스 기본 문법"
   ]
  },
  {
   "cell_type": "code",
   "execution_count": 1,
   "id": "violent-smoke",
   "metadata": {},
   "outputs": [
    {
     "name": "stdout",
     "output_type": "stream",
     "text": [
      "94892613240720\n",
      "94892613240720\n",
      "139833064864208\n",
      "139833064864528\n",
      "<class 'type'>\n",
      "<class '__main__.Car'>\n"
     ]
    }
   ],
   "source": [
    "class Car:\n",
    "    pass\n",
    "\n",
    "class Car():\n",
    "    pass\n",
    "\n",
    "#id(Car)는 여러번 호출해도 같은 값이 얻어집니다. \n",
    "print(id(Car))\n",
    "print(id(Car))\n",
    "\n",
    "#id(Car())는 Car()가 호출될 때마다 다른 값이 얻어집니다. \n",
    "print(id(Car()))\n",
    "print(id(Car()))\n",
    "\n",
    "# 두 객체의 type을 살펴봅니다. \n",
    "print(type(Car))\n",
    "print(type(Car()))"
   ]
  },
  {
   "cell_type": "markdown",
   "id": "descending-complaint",
   "metadata": {},
   "source": [
    "객체 인스턴스화 : 선언한 클래스 이름에 괄호를 적어주고, 인스턴스를 적당한 변수에 할당해 사용한다."
   ]
  },
  {
   "cell_type": "code",
   "execution_count": 2,
   "id": "composed-dylan",
   "metadata": {},
   "outputs": [
    {
     "name": "stdout",
     "output_type": "stream",
     "text": [
      "139833064864400\n",
      "139833064864592\n"
     ]
    }
   ],
   "source": [
    "mycar = Car()\n",
    "mycar2 = Car()\n",
    "print(id(mycar))\n",
    "print(id(mycar2))"
   ]
  },
  {
   "cell_type": "markdown",
   "id": "political-german",
   "metadata": {},
   "source": [
    "10-5. 클래스 속성과 메소드\n",
    "- 속성 : 상태 표현, 변수로 나타냄\n",
    "- 메소드 : 동작 표현, def로 나타냄"
   ]
  },
  {
   "cell_type": "code",
   "execution_count": 5,
   "id": "sexual-wesley",
   "metadata": {},
   "outputs": [],
   "source": [
    "# Car 클래스입니다.\n",
    "class Car:\n",
    "\n",
    "# # 속성은 클래스의 상태를 나타냅니다.\n",
    "# 색상: 빨강\n",
    "# 종류: 스포츠 카\n",
    "    color = 'red'\n",
    "    category = 'sports car'\n",
    "\n",
    "# 동작은 메서드로 나타냅니다.\n",
    "\n",
    "    def drive(self):\n",
    "#         주행 메서드\n",
    "        print(\"I'm driving\")\n",
    "\n",
    "    def accel(self, speed_up, current_speed=10):\n",
    "#         가속 메서드\n",
    "#         :param speed_up: 현재속도\n",
    "#         :param current_speed: 가속\n",
    "#         :type speed_up: string\n",
    "#         :type current_speed: string\n",
    "        self.speed_up = speed_up\n",
    "        self.current_speed = current_speed + speed_up\n",
    "        print(\"speed up\", self.speed_up, \"driving at\", self.current_speed)"
   ]
  },
  {
   "cell_type": "code",
   "execution_count": 9,
   "id": "inner-screw",
   "metadata": {},
   "outputs": [
    {
     "name": "stdout",
     "output_type": "stream",
     "text": [
      "red\n"
     ]
    }
   ],
   "source": [
    "# 속성 사용\n",
    "mycar = Car()\n",
    "print(mycar.color)\n",
    "# 없는 속성값 : mycar.price - 에러"
   ]
  },
  {
   "cell_type": "code",
   "execution_count": 10,
   "id": "centered-mathematics",
   "metadata": {},
   "outputs": [
    {
     "name": "stdout",
     "output_type": "stream",
     "text": [
      "I'm driving\n",
      "speed up 5 driving at 15\n"
     ]
    }
   ],
   "source": [
    "# 메소드 호출\n",
    "mycar.drive()\n",
    "mycar.accel(5)"
   ]
  },
  {
   "cell_type": "markdown",
   "id": "optional-vault",
   "metadata": {},
   "source": [
    "우리가 작성한 mycar.dirve() 코드는 인터프리터 내부에서는 Car.drive(mycar)로 동작합니다.\n",
    "self라는 단어는 클래스를 인스턴스화 한 인스턴스 객체를 가리킵니다.\n",
    "메소드를 호출할 때, 우리가 명시적으로 인자를 넣지는 않지만 파이썬 내부적으로는 (=파이썬 인터프리터에서는) 인자 한 개를 사용하고 있고, 그 인자는 파이썬 클래스에 의해 선언된 객체 자신(self)입니다.\n",
    "`mycar.drive() == Car.drive(mycar)`"
   ]
  },
  {
   "cell_type": "markdown",
   "id": "modified-medication",
   "metadata": {},
   "source": [
    "![코드구현](https://aiffelstaticprd.blob.core.windows.net/media/images/F-23-5.max-800x600_HD3wwel.png)\n",
    "![self](https://aiffelstaticprd.blob.core.windows.net/media/images/F-23-7.max-800x600_6qIqfVl.png)"
   ]
  },
  {
   "cell_type": "code",
   "execution_count": 12,
   "id": "developed-antique",
   "metadata": {},
   "outputs": [
    {
     "name": "stdout",
     "output_type": "stream",
     "text": [
      "run1\n"
     ]
    },
    {
     "ename": "TypeError",
     "evalue": "run2() takes 0 positional arguments but 1 was given",
     "output_type": "error",
     "traceback": [
      "\u001b[0;31m---------------------------------------------------------------------------\u001b[0m",
      "\u001b[0;31mTypeError\u001b[0m                                 Traceback (most recent call last)",
      "\u001b[0;32m<ipython-input-12-15fde2f4a1a9>\u001b[0m in \u001b[0;36m<module>\u001b[0;34m\u001b[0m\n\u001b[1;32m      8\u001b[0m \u001b[0mt\u001b[0m \u001b[0;34m=\u001b[0m \u001b[0mTest\u001b[0m\u001b[0;34m(\u001b[0m\u001b[0;34m)\u001b[0m\u001b[0;34m\u001b[0m\u001b[0;34m\u001b[0m\u001b[0m\n\u001b[1;32m      9\u001b[0m \u001b[0mt\u001b[0m\u001b[0;34m.\u001b[0m\u001b[0mrun1\u001b[0m\u001b[0;34m(\u001b[0m\u001b[0;34m)\u001b[0m\u001b[0;34m\u001b[0m\u001b[0;34m\u001b[0m\u001b[0m\n\u001b[0;32m---> 10\u001b[0;31m \u001b[0mt\u001b[0m\u001b[0;34m.\u001b[0m\u001b[0mrun2\u001b[0m\u001b[0;34m(\u001b[0m\u001b[0;34m)\u001b[0m\u001b[0;34m\u001b[0m\u001b[0;34m\u001b[0m\u001b[0m\n\u001b[0m",
      "\u001b[0;31mTypeError\u001b[0m: run2() takes 0 positional arguments but 1 was given"
     ]
    }
   ],
   "source": [
    "class Test:\n",
    "    def run1(self):\n",
    "        print(\"run1\")\n",
    "\n",
    "    def run2():\n",
    "        print(\"run2\")\n",
    "\n",
    "t = Test()\n",
    "t.run1()\n",
    "t.run2() # 에러 : self 사용 안 함"
   ]
  },
  {
   "cell_type": "code",
   "execution_count": 13,
   "id": "behavioral-transsexual",
   "metadata": {},
   "outputs": [
    {
     "name": "stdout",
     "output_type": "stream",
     "text": [
      "10.0\n"
     ]
    },
    {
     "ename": "AttributeError",
     "evalue": "'Test2' object has no attribute 'b'",
     "output_type": "error",
     "traceback": [
      "\u001b[0;31m---------------------------------------------------------------------------\u001b[0m",
      "\u001b[0;31mAttributeError\u001b[0m                            Traceback (most recent call last)",
      "\u001b[0;32m<ipython-input-13-45bb3fb2c51a>\u001b[0m in \u001b[0;36m<module>\u001b[0;34m\u001b[0m\n\u001b[1;32m     13\u001b[0m \u001b[0mt\u001b[0m \u001b[0;34m=\u001b[0m \u001b[0mTest2\u001b[0m\u001b[0;34m(\u001b[0m\u001b[0;34m)\u001b[0m\u001b[0;34m\u001b[0m\u001b[0;34m\u001b[0m\u001b[0m\n\u001b[1;32m     14\u001b[0m \u001b[0mt\u001b[0m\u001b[0;34m.\u001b[0m\u001b[0mrun1\u001b[0m\u001b[0;34m(\u001b[0m\u001b[0;36m1\u001b[0m\u001b[0;34m)\u001b[0m\u001b[0;34m\u001b[0m\u001b[0;34m\u001b[0m\u001b[0m\n\u001b[0;32m---> 15\u001b[0;31m \u001b[0mt\u001b[0m\u001b[0;34m.\u001b[0m\u001b[0mrun2\u001b[0m\u001b[0;34m(\u001b[0m\u001b[0;36m1\u001b[0m\u001b[0;34m)\u001b[0m \u001b[0;31m# 에러 : b를 self.b로 참조하지 않았기 때문\u001b[0m\u001b[0;34m\u001b[0m\u001b[0;34m\u001b[0m\u001b[0m\n\u001b[0m\u001b[1;32m     16\u001b[0m \u001b[0;31m# self로 참조하지 않으면, 메소드 내부에서만 사용되므로 외부에서 self.를 이용해 참조할 수 없다.\u001b[0m\u001b[0;34m\u001b[0m\u001b[0;34m\u001b[0m\u001b[0;34m\u001b[0m\u001b[0m\n",
      "\u001b[0;32m<ipython-input-13-45bb3fb2c51a>\u001b[0m in \u001b[0;36mrun2\u001b[0;34m(self, b)\u001b[0m\n\u001b[1;32m      9\u001b[0m     \u001b[0;32mdef\u001b[0m \u001b[0mrun2\u001b[0m\u001b[0;34m(\u001b[0m\u001b[0mself\u001b[0m\u001b[0;34m,\u001b[0m \u001b[0mb\u001b[0m\u001b[0;34m)\u001b[0m\u001b[0;34m:\u001b[0m\u001b[0;34m\u001b[0m\u001b[0;34m\u001b[0m\u001b[0m\n\u001b[1;32m     10\u001b[0m         \u001b[0mb\u001b[0m \u001b[0;34m=\u001b[0m \u001b[0mfloat\u001b[0m\u001b[0;34m(\u001b[0m\u001b[0mb\u001b[0m\u001b[0;34m)\u001b[0m \u001b[0;34m+\u001b[0m \u001b[0;36m10\u001b[0m\u001b[0;34m\u001b[0m\u001b[0;34m\u001b[0m\u001b[0m\n\u001b[0;32m---> 11\u001b[0;31m         \u001b[0mprint\u001b[0m\u001b[0;34m(\u001b[0m\u001b[0mself\u001b[0m\u001b[0;34m.\u001b[0m\u001b[0mb\u001b[0m\u001b[0;34m)\u001b[0m\u001b[0;34m\u001b[0m\u001b[0;34m\u001b[0m\u001b[0m\n\u001b[0m\u001b[1;32m     12\u001b[0m \u001b[0;34m\u001b[0m\u001b[0m\n\u001b[1;32m     13\u001b[0m \u001b[0mt\u001b[0m \u001b[0;34m=\u001b[0m \u001b[0mTest2\u001b[0m\u001b[0;34m(\u001b[0m\u001b[0;34m)\u001b[0m\u001b[0;34m\u001b[0m\u001b[0;34m\u001b[0m\u001b[0m\n",
      "\u001b[0;31mAttributeError\u001b[0m: 'Test2' object has no attribute 'b'"
     ]
    }
   ],
   "source": [
    "# self : 인스턴스 객체의 고유한 속성을 나타낼 수 있다. \n",
    "# 클래스가 아닌 인스턴스화된 객체 자신의 속성이라는 뜻\n",
    "\n",
    "class Test2:\n",
    "    def run1(self, a):\n",
    "        self.a = float(a) * 10\n",
    "        print(self.a)\n",
    "\n",
    "    def run2(self, b):\n",
    "        b = float(b) + 10\n",
    "        print(self.b)\n",
    "        \n",
    "t = Test2()\n",
    "t.run1(1)\n",
    "t.run2(1) # 에러 : b를 self.b로 참조하지 않았기 때문\n",
    "# self로 참조하지 않으면, 메소드 내부에서만 사용되므로 외부에서 self.를 이용해 참조할 수 없다."
   ]
  },
  {
   "cell_type": "markdown",
   "id": "outside-israel",
   "metadata": {},
   "source": [
    "self는 자기 자신입니다.  \n",
    "클래스에 의해 생성된 객체(인스턴스)를 가리킵니다.  \n",
    "클래스의 메서드는 인자로 해당 인스턴스(self)를 받아야 합니다.  \n",
    "메소드를 호출할 때는 self 인자를 전달하지 않습니다. self의 값은 인터프리터가 제공합니다.  \n",
    "인스턴스 변수를 정의할 때에는 접두사 self.을 붙여줍니다.  "
   ]
  },
  {
   "cell_type": "markdown",
   "id": "verbal-tuesday",
   "metadata": {},
   "source": [
    "10-6. 생성자\n",
    "- 클래스에 의해 만든 인스턴스 객체의 속성값을 사용자는 어떻게 초기화 할 수 있을까요?`__init__`"
   ]
  },
  {
   "cell_type": "code",
   "execution_count": 14,
   "id": "corporate-confirmation",
   "metadata": {},
   "outputs": [],
   "source": [
    "class Car:\n",
    "    color = 'red'\n",
    "    category = 'sports car'\n",
    "\n",
    "    def drive(self):\n",
    "        print(\"I'm driving\")\n",
    "\n",
    "    def accel(self, speed_up, current_speed=10):\n",
    "        self.speed_up = speed_up\n",
    "        self.current_speed = current_speed + self.speed_up\n",
    "        print(\"speed up\", self.speed_up, \"driving at\", self.current_speed)"
   ]
  },
  {
   "cell_type": "code",
   "execution_count": 15,
   "id": "agreed-mentor",
   "metadata": {},
   "outputs": [],
   "source": [
    "class Car2:\n",
    "    def __init__(self, color, category):\n",
    "        self.color = color\n",
    "        self.category = category\n",
    "\n",
    "    def drive(self):\n",
    "        print(\"I'm driving\")\n",
    "\n",
    "    def accel(self, speed_up, current_speed=10):\n",
    "        self.speed_up = speed_up\n",
    "        self.current_speed = current_speed + self.speed_up\n",
    "        print(\"speed up\", self.speed_up, \"driving at\", self.current_speed)"
   ]
  },
  {
   "cell_type": "markdown",
   "id": "exposed-volleyball",
   "metadata": {},
   "source": [
    "`__init__` 메소드안에 인자를 전달함로써 인스턴스 객체의 속성을 초기화할 수 있습니다 .  \n",
    "즉, `__init__` 메소드안에 정의된 속성(변수) color와 category는 클래스를 인스턴스화 할 때 값을 설정할 수 있습니다.  \n",
    "이를 인스턴스 객체의 초기화(initializing instance) 라고 히고, `__init__`함수는 생성자(constructor)라고 합니다.  \n",
    "`__init__` 역시 def 키워드로 정의합니다. 즉, 클래스안의 메소드이므로 self 문법 잊지 마세요!"
   ]
  },
  {
   "cell_type": "code",
   "execution_count": 16,
   "id": "developing-orchestra",
   "metadata": {},
   "outputs": [],
   "source": [
    "#인스턴스 객체 선언\n",
    "car1 = Car()\n",
    "car2 = Car2('yellow', 'sedan')"
   ]
  },
  {
   "cell_type": "code",
   "execution_count": 17,
   "id": "random-terminal",
   "metadata": {},
   "outputs": [
    {
     "data": {
      "text/plain": [
       "'red'"
      ]
     },
     "execution_count": 17,
     "metadata": {},
     "output_type": "execute_result"
    }
   ],
   "source": [
    "car1.color"
   ]
  },
  {
   "cell_type": "code",
   "execution_count": 19,
   "id": "applicable-tract",
   "metadata": {},
   "outputs": [
    {
     "data": {
      "text/plain": [
       "'yellow'"
      ]
     },
     "execution_count": 19,
     "metadata": {},
     "output_type": "execute_result"
    }
   ],
   "source": [
    "car2.color"
   ]
  },
  {
   "cell_type": "code",
   "execution_count": 21,
   "id": "restricted-opera",
   "metadata": {},
   "outputs": [
    {
     "data": {
      "text/plain": [
       "('sports car', 'sedan')"
      ]
     },
     "execution_count": 21,
     "metadata": {},
     "output_type": "execute_result"
    }
   ],
   "source": [
    "car1.category, car2.category"
   ]
  },
  {
   "cell_type": "code",
   "execution_count": 22,
   "id": "distributed-baking",
   "metadata": {},
   "outputs": [],
   "source": [
    "class Car2:\n",
    "    # 키워드 인자 지정\n",
    "    def __init__(self, color='red', category='sprots car'):\n",
    "        self.color = color\n",
    "        self.category = category"
   ]
  },
  {
   "cell_type": "markdown",
   "id": "fitting-jamaica",
   "metadata": {},
   "source": [
    "10-7. 클래스 변수와 인스턴스 변수\n",
    "- 이번에는 클래스 내 변수를 선언하는 방법을 설명하도록 하겠습니다. 클래스에서 변수를 선언하는 방법은 2가지가 있었습니다. 하나는 보통 변수와 동일하게 변수명을 쓰고 값을 할당하는 방법, 두 번째는 __init__ 메소드 안에 self.와 함께 설정하는 방법입니다."
   ]
  },
  {
   "cell_type": "code",
   "execution_count": 25,
   "id": "productive-zealand",
   "metadata": {},
   "outputs": [],
   "source": [
    "class Car:\n",
    "    # 클래스에 바로 선언된 속성 : 클래스 변수\n",
    "    # 클래스에 의해 생성된 모든 객체에서 공유되는 값\n",
    "    Manufacture = \"India\"\n",
    "    # color, category : 인스턴스 변수, self를 사용해 선언된 변수\n",
    "    # 인스턴스화 될 때마다 새로운 값 할당\n",
    "    # car1, car2가 공유하지 않는 값\n",
    "    def __init__(self, color, category='sedan'):\n",
    "        self.color = color\n",
    "        self.category = category"
   ]
  },
  {
   "cell_type": "code",
   "execution_count": 26,
   "id": "established-twist",
   "metadata": {},
   "outputs": [
    {
     "name": "stdout",
     "output_type": "stream",
     "text": [
      "India red sports car\n",
      "India white sedan\n"
     ]
    }
   ],
   "source": [
    "car1 = Car('red','sports car')\n",
    "car2 = Car('white')\n",
    "print(car1.Manufacture, car1.color, car1.category)\n",
    "print(car2.Manufacture, car2.color, car2.category)"
   ]
  },
  {
   "cell_type": "markdown",
   "id": "blocked-picking",
   "metadata": {},
   "source": [
    "10-8. 추상화와 캡슐화\n",
    "![이미지](https://aiffelstaticprd.blob.core.windows.net/media/images/f-23-capsule.max-800x600_2PKGaKK.png)\n",
    "그림에서 Car 클래스는 자동차의 여러 기능 중 운전하기(drive), 가속하기(accel) 기능을 제공합니다. 각 기능은 추상화하여 함수로 제공하기 때문에 자동차 클래스를 만들어 사용하는 사람은 세부 구현에 대해서는 알지 못해도 필요한 함수를 호출하는 것만으로 손쉽게 해당 기능을 사용할 수 있습니다. 또한 각 기능을 Car 클래스로 캡슐화하여 제공하므로 자동차 클래스가 필요한 사람은 언제나 Car 클래스라는 캡슐을 쉽게 가져다 쓸 수 있습니다."
   ]
  },
  {
   "cell_type": "markdown",
   "id": "blessed-capability",
   "metadata": {},
   "source": [
    "10-9. 상속"
   ]
  },
  {
   "cell_type": "code",
   "execution_count": 27,
   "id": "smoking-divorce",
   "metadata": {},
   "outputs": [],
   "source": [
    "class Car:\n",
    "    Manufacture = \"India\"\n",
    "\n",
    "    def __init__(self, color='red', category='sedan'):\n",
    "        self.color = color\n",
    "        self.category = category\n",
    "\n",
    "    def drive(self):\n",
    "        print(\"I'm driving\")\n",
    "\n",
    "    def accel(self, speed_up, current_speed=10):\n",
    "        self.speed_up = speed_up\n",
    "        self.current_speed = current_speed + self.speed_up\n",
    "        print(\"speed up\", self.speed_up, \"driving at\", self.current_speed)"
   ]
  },
  {
   "cell_type": "code",
   "execution_count": 29,
   "id": "identified-arizona",
   "metadata": {},
   "outputs": [
    {
     "name": "stdout",
     "output_type": "stream",
     "text": [
      "I'm driving\n",
      "speed up 10 driving at 20\n"
     ]
    }
   ],
   "source": [
    "# 상속 : 소괄호 안에 상속받을 클래스 이름 작성\n",
    "class NewCar(Car):\n",
    "    pass\n",
    "\n",
    "car = NewCar()\n",
    "car.drive()\n",
    "car.accel(10)"
   ]
  },
  {
   "cell_type": "code",
   "execution_count": 31,
   "id": "inappropriate-intent",
   "metadata": {},
   "outputs": [
    {
     "data": {
      "text/plain": [
       "'Porsche'"
      ]
     },
     "execution_count": 31,
     "metadata": {},
     "output_type": "execute_result"
    }
   ],
   "source": [
    "class NewCar(Car):\n",
    "    maker = 'Porsche'\n",
    "\n",
    "car = NewCar()\n",
    "car.maker\n",
    "# 상속받은 클래스 NewCar : 자식 클래스, 서브 클래스, 파생된 클라스\n",
    "# 기존 클래스 Car : 부모 클래스, 슈퍼 클래스, 베이스 클래스"
   ]
  },
  {
   "cell_type": "code",
   "execution_count": 36,
   "id": "comprehensive-surveillance",
   "metadata": {},
   "outputs": [
    {
     "name": "stdout",
     "output_type": "stream",
     "text": [
      "2020Y sports car\n"
     ]
    }
   ],
   "source": [
    "# 상속1. 메소드 추가하기\n",
    "class NewCar(Car):\n",
    "    def fly(self):\n",
    "        print(\"I'm flying!! This is the new car!!\")\n",
    "# 상속2. 메소드 오버라이드 : 메소드 재정의하기\n",
    "class NewCar(Car):\n",
    "    def fly(self): # 메소드 추가\n",
    "        print(\"I'm flying!! This is the new car!!\")\n",
    "\n",
    "    def drive(self): # 메소드 재정의\n",
    "        print(\"I'm driving and can fly\")\n",
    "# 상속3. 부모 메소드 호출하기 super()\n",
    "# def (부모클래스의)메소드이름():\n",
    "#     super().메소드이름()\n",
    "# NewCar 클래스의 __init__에 color, category 속성은 동일하게 유지한 채 maker 속성을 추가한 NewCar 만들기\n",
    "class NewCar(Car):\n",
    "    def __init__(self, color, category, maker):\n",
    "        super().__init__(color, category)\n",
    "        self.maker = maker\n",
    "\n",
    "    def fly(self):\n",
    "        print(\"I'm flying!! This is the new car!!\")\n",
    "\n",
    "    def accel(self, speed_up, level=1, current_speed=10):\n",
    "        self.boost[level] = {1 : 0, 2 : 30, 3 : 50}\n",
    "        self.speed_up = speed_up + self.boost[level]\n",
    "        self.current_speed = current_speed + self.speed_up\n",
    "        print(\"speed up\", self.speed_up, \"driving at\", self.current_speed)\n",
    "# 만약 메소드를 오버라이드 했다면 상속받은 클래스 하나하나의 초기화 코드를 전부 변경해주어야 함\n",
    "# 부모 클래스를 가져오는 함수 super()를 쓰면 부모 클래스만 변경해주면 됨\n",
    "# 최종코드\n",
    "class Car:\n",
    "    Manufacture = \"India\"\n",
    "\n",
    "    def __init__(self, color='red', category='sedan'):\n",
    "        self.color = color \n",
    "        self.category = '2020Y '+ category\n",
    "\n",
    "\n",
    "class NewCar(Car):\n",
    "    def __init__(self, color, category, maker):\n",
    "        super().__init__(color, category)\n",
    "        self.maker = maker\n",
    "\n",
    "newcar = NewCar('red','sports car', 'Kia')\n",
    "print(newcar.category)"
   ]
  },
  {
   "cell_type": "markdown",
   "id": "wanted-pacific",
   "metadata": {},
   "source": [
    "10-10. n면체 주사위 만들기\n",
    "1. 기능\n",
    "- 주사위의 면 개수 n을 입력할 수 있다.\n",
    "- 주사위를 던지면 1\\~n 눈의 수 중에서 랜덤으로 값을 출력한다.  \n",
    "\"클래스 이름\" FunnyDice  \n",
    "주사위 면의 개수를 인스턴스 변수로 선언해 주사위 면의 개수를 입력할 수 있게함  \n",
    "throw라는 메소드로 던져 1\\~n 하나의 값이 나오게 함  \n",
    "특정한 값으로 세팅 : 치팅 : setval  \n",
    "현재 주사위 값 얻기 : getval  "
   ]
  },
  {
   "cell_type": "code",
   "execution_count": 38,
   "id": "unavailable-prize",
   "metadata": {},
   "outputs": [],
   "source": [
    "def main():\n",
    "    n = get_inputs() # 주사위 면의 수 입력 받기\n",
    "    mydice = FunnyDice(n) # 클래스 호출하여 인스턴스 만들기\n",
    "    mydice.throw() # 만든 인스턴스로 클래스 메소드 갖고 오기\n",
    "    print(\"행운의 숫자는?{}\".format(mydice.getval()))\n",
    "def get_inputs():\n",
    "    n = int(input(\"주사위 면의 개수를 입력하세요: \"))\n",
    "    return n"
   ]
  },
  {
   "cell_type": "code",
   "execution_count": 41,
   "id": "administrative-activation",
   "metadata": {},
   "outputs": [],
   "source": [
    "from random import randrange\n",
    "\n",
    "class FunnyDice:\n",
    "    def __init__(self, n=6):\n",
    "            self.n = int(n)\n",
    "            self.numbers = list(range(1,n+1)) # 주사위 눈\n",
    "            self.index = randrange(0, self.n) # 던지기 전 눈의 수\n",
    "            self.val = self.numbers[self.index] # 나온 주사위의 눈\n",
    "            \n",
    "    def throw(self):\n",
    "        self.index = randrange(0, self.n)\n",
    "        self.val = self.numbers[self.index]\n",
    "    \n",
    "    def getval(self):\n",
    "        return self.val # 주사위 값\n",
    "\n",
    "    def setval(self, val):\n",
    "        if val <= self.n:\n",
    "            self.val = val\n",
    "        else:\n",
    "            print(\"주사위에 없는 숫자 입니다.\")\n",
    "            raise error"
   ]
  },
  {
   "cell_type": "code",
   "execution_count": 1,
   "id": "impossible-thousand",
   "metadata": {},
   "outputs": [
    {
     "name": "stdout",
     "output_type": "stream",
     "text": [
      "주사위 면의 개수를 입력하세요: 100\n",
      "행운의 숫자는? 32\n"
     ]
    }
   ],
   "source": [
    "# funnydice.py\n",
    "\n",
    "from random import randrange\n",
    "\n",
    "class FunnyDice:\n",
    "    def __init__(self, n=6):\n",
    "        self.n = n\n",
    "        self.options = list(range(1, n+1))\n",
    "        self.index = randrange(0, self.n)\n",
    "        self.val = self.options[self.index]\n",
    "    \n",
    "    def throw(self):\n",
    "        self.index = randrange(0, self.n)\n",
    "        self.val = self.options[self.index]\n",
    "    \n",
    "    def gettingval(self):\n",
    "        return self.val\n",
    "    \n",
    "    def settingval(self, val):\n",
    "        if valnum <= self.n:\n",
    "            self.val = valnum\n",
    "        else:\n",
    "            print(\"주사위에 없는 숫자입니다. 주사위는 1 ~ {0}까지 있습니다. \".format(self.n))\n",
    "            raise error\n",
    "\n",
    "def get_inputs():\n",
    "    n = int(input(\"주사위 면의 개수를 입력하세요: \"))\n",
    "    return n\n",
    "\n",
    "def main():\n",
    "    n = get_inputs()\n",
    "    mydice = FunnyDice(n)\n",
    "    mydice.throw()\n",
    "    print(\"행운의 숫자는? {0}\".format(mydice.gettingval()))\n",
    "\n",
    "if __name__ == '__main__':\n",
    "    main()\n",
    "    \n",
    "# https://dojang.io/mod/page/view.php?id=2448"
   ]
  },
  {
   "cell_type": "code",
   "execution_count": null,
   "id": "toxic-uzbekistan",
   "metadata": {},
   "outputs": [],
   "source": []
  }
 ],
 "metadata": {
  "kernelspec": {
   "display_name": "aiffel",
   "language": "python",
   "name": "aiffel"
  },
  "language_info": {
   "codemirror_mode": {
    "name": "ipython",
    "version": 3
   },
   "file_extension": ".py",
   "mimetype": "text/x-python",
   "name": "python",
   "nbconvert_exporter": "python",
   "pygments_lexer": "ipython3",
   "version": "3.7.9"
  }
 },
 "nbformat": 4,
 "nbformat_minor": 5
}
